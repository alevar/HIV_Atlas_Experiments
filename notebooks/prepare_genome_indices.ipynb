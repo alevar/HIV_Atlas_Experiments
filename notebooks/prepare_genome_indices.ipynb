{
 "cells": [
  {
   "cell_type": "markdown",
   "metadata": {},
   "source": [
    "Prepare genome files (fasta, gtf, etc) and build indices for use in other tests"
   ]
  },
  {
   "cell_type": "code",
   "execution_count": 2,
   "metadata": {},
   "outputs": [
    {
     "name": "stderr",
     "output_type": "stream",
     "text": [
      "/home/avaraby1/miniconda3/envs/hivAtlas/lib/python3.11/site-packages/pysradb/utils.py:14: TqdmWarning: IProgress not found. Please update jupyter and ipywidgets. See https://ipywidgets.readthedocs.io/en/stable/user_install.html\n",
      "  from tqdm.autonotebook import tqdm\n"
     ]
    }
   ],
   "source": [
    "import os\n",
    "import re\n",
    "import sys\n",
    "import csv\n",
    "import time\n",
    "import random\n",
    "import requests\n",
    "import subprocess\n",
    "from pathlib import Path\n",
    "from typing import List, Union\n",
    "\n",
    "import numpy as np\n",
    "import pandas as pd\n",
    "\n",
    "import seaborn as sns\n",
    "import matplotlib.pyplot as plt\n",
    "\n",
    "from pysradb import SRAweb\n",
    "\n",
    "from Bio import SeqIO"
   ]
  },
  {
   "cell_type": "code",
   "execution_count": 3,
   "metadata": {},
   "outputs": [],
   "source": [
    "prj_base_dir = Path.cwd().parent.parent\n",
    "\n",
    "soft_dir = prj_base_dir / 'HIV_Atlas_Experiments' / 'soft'\n",
    "\n",
    "sequence_dir = prj_base_dir / 'HIV_Atlas_Creation' / 'data' / 'sequences'\n",
    "assert sequence_dir.exists(), f\"sequence_dir does not exist: {sequence_dir}\"\n",
    "\n",
    "annotation_dir = prj_base_dir / 'HIV_Atlas_Creation' / 'data' / 'annotation'\n",
    "assert annotation_dir.exists(), f\"annotation_dir does not exist: {annotation_dir}\"\n",
    "\n",
    "hiv_fasta_fname = sequence_dir / 'K03454.fasta'\n",
    "hiv_gtf_fname = annotation_dir / 'K03454/K03454.vira.gtf'\n",
    "\n",
    "data_dir = prj_base_dir / 'HIV_Atlas_Experiments' / 'data'\n",
    "hg38_fasta_fname = Path('~/genomes/human/hg38/hg38_p12_ucsc.no_alts.no_fixs.fa')\n",
    "chess_gtf_fname = Path('~/genomes/human/hg38/annotations/chess3.1.3.GRCh38.gtf')"
   ]
  },
  {
   "cell_type": "code",
   "execution_count": 4,
   "metadata": {},
   "outputs": [],
   "source": [
    "%load_ext autoreload\n",
    "%autoreload 1\n",
    "\n",
    "sys.path.insert(0, str(soft_dir / \"genomic_scripts\"))\n",
    "%aimport definitions"
   ]
  },
  {
   "cell_type": "code",
   "execution_count": 5,
   "metadata": {},
   "outputs": [],
   "source": [
    "reference_fasta_fname = data_dir / 'hg38_K03454.fasta'\n",
    "reference_gtf_fname = data_dir / 'hg38_K03454.gtf'\n",
    "\n",
    "reference_ht2_index_prefix = data_dir / 'hg38_K03454'"
   ]
  },
  {
   "cell_type": "code",
   "execution_count": 5,
   "metadata": {},
   "outputs": [],
   "source": [
    "# create joint reference fasta\n",
    "with open(reference_fasta_fname, 'w') as outFP:\n",
    "    for record in SeqIO.parse(hg38_fasta_fname.expanduser(), 'fasta'):\n",
    "        SeqIO.write(record, outFP, 'fasta')\n",
    "    for record in SeqIO.parse(hiv_fasta_fname.expanduser(), 'fasta'):\n",
    "        SeqIO.write(record, outFP, 'fasta')\n",
    "\n",
    "# create joint reference gtf\n",
    "with open(reference_gtf_fname, 'w') as outFP:\n",
    "    with open(chess_gtf_fname.expanduser(), 'r') as inFP:\n",
    "        for line in inFP:\n",
    "            if line.startswith('#'):\n",
    "                continue\n",
    "            else:\n",
    "                outFP.write(line)\n",
    "    with open(hiv_gtf_fname.expanduser(), 'r') as inFP:\n",
    "        for line in inFP:\n",
    "            if line.startswith('#'):\n",
    "                continue\n",
    "            else:\n",
    "                outFP.write(line)"
   ]
  },
  {
   "cell_type": "code",
   "execution_count": 6,
   "metadata": {},
   "outputs": [
    {
     "name": "stdout",
     "output_type": "stream",
     "text": [
      "Splice sites extracted to /ccb/salz8-3/avaraby1/HIV_Atlas/HIV_Atlas_Experiments/data/hg38_K03454.junctions\n",
      "Exons extracted to /ccb/salz8-3/avaraby1/HIV_Atlas/HIV_Atlas_Experiments/data/hg38_K03454.exons\n",
      "hisat2-build -p 64 --ss /ccb/salz8-3/avaraby1/HIV_Atlas/HIV_Atlas_Experiments/data/hg38_K03454.junctions --exon /ccb/salz8-3/avaraby1/HIV_Atlas/HIV_Atlas_Experiments/data/hg38_K03454.exons /ccb/salz8-3/avaraby1/HIV_Atlas/HIV_Atlas_Experiments/data/hg38_K03454.fasta /ccb/salz8-3/avaraby1/HIV_Atlas/HIV_Atlas_Experiments/data/hg38_K03454\n"
     ]
    }
   ],
   "source": [
    "# build hisat2 index\n",
    "\n",
    "# extract junctions and exons files for the index construction\n",
    "junctions_fname = data_dir / 'hg38_K03454.junctions'\n",
    "exons_fname = data_dir / 'hg38_K03454.exons'\n",
    "\n",
    "subprocess.run([\"hisat2_extract_splice_sites.py\", reference_gtf_fname], stdout=open(junctions_fname, 'w'), check=True)\n",
    "print(f\"Splice sites extracted to {junctions_fname}\")\n",
    "\n",
    "subprocess.run([\"hisat2_extract_exons.py\", reference_gtf_fname], stdout=open(exons_fname, 'w'), check=True)\n",
    "print(f\"Exons extracted to {exons_fname}\")\n",
    "\n",
    "cmd = [\"hisat2-build\", \"-p\", \"64\", \"--ss\", str(junctions_fname), \"--exon\", str(exons_fname), str(reference_fasta_fname), str(reference_ht2_index_prefix)]\n",
    "print(' '.join(cmd))"
   ]
  },
  {
   "cell_type": "code",
   "execution_count": 12,
   "metadata": {},
   "outputs": [
    {
     "data": {
      "text/html": [
       "<div>\n",
       "<style scoped>\n",
       "    .dataframe tbody tr th:only-of-type {\n",
       "        vertical-align: middle;\n",
       "    }\n",
       "\n",
       "    .dataframe tbody tr th {\n",
       "        vertical-align: top;\n",
       "    }\n",
       "\n",
       "    .dataframe thead th {\n",
       "        text-align: right;\n",
       "    }\n",
       "</style>\n",
       "<table border=\"1\" class=\"dataframe\">\n",
       "  <thead>\n",
       "    <tr style=\"text-align: right;\">\n",
       "      <th></th>\n",
       "      <th>tx_id</th>\n",
       "      <th>gene_id</th>\n",
       "    </tr>\n",
       "  </thead>\n",
       "  <tbody>\n",
       "    <tr>\n",
       "      <th>0</th>\n",
       "      <td>CHS.1.1</td>\n",
       "      <td>CHS.1</td>\n",
       "    </tr>\n",
       "    <tr>\n",
       "      <th>1</th>\n",
       "      <td>CHS.2.1</td>\n",
       "      <td>CHS.2</td>\n",
       "    </tr>\n",
       "    <tr>\n",
       "      <th>2</th>\n",
       "      <td>CHS.166734.2</td>\n",
       "      <td>CHS.166734</td>\n",
       "    </tr>\n",
       "    <tr>\n",
       "      <th>3</th>\n",
       "      <td>CHS.166734.1</td>\n",
       "      <td>CHS.166734</td>\n",
       "    </tr>\n",
       "    <tr>\n",
       "      <th>4</th>\n",
       "      <td>CHS.166734.3</td>\n",
       "      <td>CHS.166734</td>\n",
       "    </tr>\n",
       "  </tbody>\n",
       "</table>\n",
       "</div>"
      ],
      "text/plain": [
       "          tx_id     gene_id\n",
       "0       CHS.1.1       CHS.1\n",
       "1       CHS.2.1       CHS.2\n",
       "2  CHS.166734.2  CHS.166734\n",
       "3  CHS.166734.1  CHS.166734\n",
       "4  CHS.166734.3  CHS.166734"
      ]
     },
     "execution_count": 12,
     "metadata": {},
     "output_type": "execute_result"
    }
   ],
   "source": [
    "# generate transcript to gene id mapping\n",
    "t2g = definitions.get_attribute(reference_gtf_fname,\"gene_id\")\n",
    "t2g.rename(columns={'tid':\"tx_id\"}, inplace=True)\n",
    "t2g.to_csv(data_dir / 'hg38_K03454.t2g.tsv', sep='\\t', index=False)\n",
    "t2g.head()"
   ]
  },
  {
   "cell_type": "code",
   "execution_count": 10,
   "metadata": {},
   "outputs": [
    {
     "name": "stdout",
     "output_type": "stream",
     "text": [
      "/ccb/salz8-3/avaraby1/HIV_Atlas/HIV_Atlas_Experiments/soft/mudskipper/target/release/mudskipper index --gtf /ccb/salz8-3/avaraby1/HIV_Atlas/HIV_Atlas_Experiments/data/hg38_K03454.gtf --dir-index /ccb/salz8-3/avaraby1/HIV_Atlas/HIV_Atlas_Experiments/data/hg38_K03454.mudskipper\n"
     ]
    },
    {
     "name": "stderr",
     "output_type": "stream",
     "text": [
      "[2024-12-19T19:12:11Z INFO  mudskipper] Mudskipper started...\n",
      "[2024-12-19T19:12:11Z INFO  mudskipper::annotation] reading the gtf file and building the tree.\n",
      "[2024-12-19T19:12:20Z INFO  mudskipper::annotation] building the tree\n",
      "[2024-12-19T19:12:20Z INFO  mudskipper::annotation] Time to build the tree: 8.577206464s\n",
      "[2024-12-19T19:12:20Z INFO  mudskipper::annotation] saving the GTF index\n",
      "[2024-12-19T20:07:19Z INFO  mudskipper::annotation] Done with saving the GTF index\n",
      "[2024-12-19T20:07:19Z INFO  mudskipper] Mudskipper finished.\n"
     ]
    },
    {
     "data": {
      "text/plain": [
       "CompletedProcess(args='/ccb/salz8-3/avaraby1/HIV_Atlas/HIV_Atlas_Experiments/soft/mudskipper/target/release/mudskipper index --gtf /ccb/salz8-3/avaraby1/HIV_Atlas/HIV_Atlas_Experiments/data/hg38_K03454.gtf --dir-index /ccb/salz8-3/avaraby1/HIV_Atlas/HIV_Atlas_Experiments/data/hg38_K03454.mudskipper', returncode=0)"
      ]
     },
     "execution_count": 10,
     "metadata": {},
     "output_type": "execute_result"
    }
   ],
   "source": [
    "# prep mudskipper index\n",
    "cmd = f\"{soft_dir}/mudskipper/target/release/mudskipper index --gtf {reference_gtf_fname} --dir-index {data_dir / 'hg38_K03454.mudskipper'}\"\n",
    "print(cmd)\n",
    "subprocess.run(cmd, shell=True, check=True)"
   ]
  },
  {
   "cell_type": "code",
   "execution_count": null,
   "metadata": {},
   "outputs": [],
   "source": [
    "# build salmon index\n",
    "# 1. extract transcript sequences\n",
    "transcript_fasta_fname = data_dir / 'hg38_K03454.transcripts.fasta'\n",
    "cmd = f\"gffread -w {transcript_fasta_fname} -g {reference_fasta_fname} {reference_gtf_fname}\"\n",
    "print(cmd)\n",
    "subprocess.run(cmd, shell=True, check=True)"
   ]
  },
  {
   "cell_type": "code",
   "execution_count": 14,
   "metadata": {},
   "outputs": [
    {
     "name": "stdout",
     "output_type": "stream",
     "text": [
      "rsem-prepare-reference --gtf /ccb/salz8-3/avaraby1/HIV_Atlas/HIV_Atlas_Experiments/data/hg38_K03454.gtf /ccb/salz8-3/avaraby1/HIV_Atlas/HIV_Atlas_Experiments/data/hg38_K03454.fasta /ccb/salz8-3/avaraby1/HIV_Atlas/HIV_Atlas_Experiments/data/hg38_K03454_rsem\n",
      "rsem-extract-reference-transcripts /ccb/salz8-3/avaraby1/HIV_Atlas/HIV_Atlas_Experiments/data/hg38_K03454_rsem 0 /ccb/salz8-3/avaraby1/HIV_Atlas/HIV_Atlas_Experiments/data/hg38_K03454.gtf None 0 /ccb/salz8-3/avaraby1/HIV_Atlas/HIV_Atlas_Experiments/data/hg38_K03454.fasta\n"
     ]
    },
    {
     "name": "stderr",
     "output_type": "stream",
     "text": [
      "Warning: Cannot extract transcript CHS.10517.1's sequence since the chromosome it locates, chr11_JH159136v1_alt, is absent!\n",
      "Warning: Cannot extract transcript CHS.10521.1's sequence since the chromosome it locates, chr11_JH159136v1_alt, is absent!\n",
      "Warning: Cannot extract transcript CHS.10523.1's sequence since the chromosome it locates, chr11_JH159136v1_alt, is absent!\n",
      "Warning: Cannot extract transcript CHS.10524.1's sequence since the chromosome it locates, chr11_JH159136v1_alt, is absent!\n",
      "Warning: Cannot extract transcript CHS.10526.1's sequence since the chromosome it locates, chr11_JH159137v1_alt, is absent!\n",
      "Warning: Cannot extract transcript CHS.10528.2's sequence since the chromosome it locates, chr11_JH159137v1_alt, is absent!\n",
      "Warning: Cannot extract transcript CHS.10533.1's sequence since the chromosome it locates, chr11_KI270826v1_alt, is absent!\n",
      "Warning: Cannot extract transcript CHS.10534.1's sequence since the chromosome it locates, chr11_KI270827v1_alt, is absent!\n",
      "Warning: Cannot extract transcript CHS.10534.2's sequence since the chromosome it locates, chr11_KI270827v1_alt, is absent!\n",
      "Warning: Cannot extract transcript CHS.10535.1's sequence since the chromosome it locates, chr11_KI270827v1_alt, is absent!\n",
      "Warning: Cannot extract transcript CHS.10536.1's sequence since the chromosome it locates, chr11_KI270829v1_alt, is absent!\n",
      "Warning: Cannot extract transcript CHS.10538.1's sequence since the chromosome it locates, chr11_KI270829v1_alt, is absent!\n",
      "Warning: Cannot extract transcript CHS.10539.1's sequence since the chromosome it locates, chr11_KI270829v1_alt, is absent!\n",
      "Warning: Cannot extract transcript CHS.10540.1's sequence since the chromosome it locates, chr11_KI270829v1_alt, is absent!\n",
      "Warning: Cannot extract transcript CHS.10543.1's sequence since the chromosome it locates, chr11_KI270829v1_alt, is absent!\n",
      "Warning: Cannot extract transcript CHS.10543.2's sequence since the chromosome it locates, chr11_KI270829v1_alt, is absent!\n",
      "Warning: Cannot extract transcript CHS.10546.2's sequence since the chromosome it locates, chr11_KI270830v1_alt, is absent!\n",
      "Warning: Cannot extract transcript CHS.10547.1's sequence since the chromosome it locates, chr11_KI270830v1_alt, is absent!\n",
      "Warning: Cannot extract transcript CHS.10548.1's sequence since the chromosome it locates, chr11_KI270830v1_alt, is absent!\n",
      "Warning: Cannot extract transcript CHS.10549.1's sequence since the chromosome it locates, chr11_KI270830v1_alt, is absent!\n",
      "Warning: Cannot extract transcript CHS.10550.1's sequence since the chromosome it locates, chr11_KI270830v1_alt, is absent!\n",
      "Warning: Cannot extract transcript CHS.10551.1's sequence since the chromosome it locates, chr11_KI270830v1_alt, is absent!\n",
      "Warning: Cannot extract transcript CHS.10552.11's sequence since the chromosome it locates, chr11_KI270830v1_alt, is absent!\n",
      "Warning: Cannot extract transcript CHS.10553.1's sequence since the chromosome it locates, chr11_KI270830v1_alt, is absent!\n",
      "Warning: Cannot extract transcript CHS.10554.1's sequence since the chromosome it locates, chr11_KI270830v1_alt, is absent!\n",
      "Warning: Cannot extract transcript CHS.10554.3's sequence since the chromosome it locates, chr11_KI270830v1_alt, is absent!\n",
      "Warning: Cannot extract transcript CHS.10556.1's sequence since the chromosome it locates, chr11_KI270831v1_alt, is absent!\n",
      "Warning: Cannot extract transcript CHS.10557.1's sequence since the chromosome it locates, chr11_KI270831v1_alt, is absent!\n",
      "Warning: Cannot extract transcript CHS.10558.1's sequence since the chromosome it locates, chr11_KI270831v1_alt, is absent!\n",
      "Warning: Cannot extract transcript CHS.10559.2's sequence since the chromosome it locates, chr11_KI270831v1_alt, is absent!\n",
      "Warning: Cannot extract transcript CHS.10559.3's sequence since the chromosome it locates, chr11_KI270831v1_alt, is absent!\n",
      "Warning: Cannot extract transcript CHS.10559.4's sequence since the chromosome it locates, chr11_KI270831v1_alt, is absent!\n",
      "Warning: Cannot extract transcript CHS.10559.6's sequence since the chromosome it locates, chr11_KI270831v1_alt, is absent!\n",
      "Warning: Cannot extract transcript CHS.10559.9's sequence since the chromosome it locates, chr11_KI270831v1_alt, is absent!\n",
      "Warning: Cannot extract transcript CHS.10560.1's sequence since the chromosome it locates, chr11_KI270831v1_alt, is absent!\n",
      "Warning: Cannot extract transcript CHS.10561.1's sequence since the chromosome it locates, chr11_KI270831v1_alt, is absent!\n",
      "Warning: Cannot extract transcript CHS.10561.2's sequence since the chromosome it locates, chr11_KI270831v1_alt, is absent!\n",
      "Warning: Cannot extract transcript CHS.10562.1's sequence since the chromosome it locates, chr11_KI270831v1_alt, is absent!\n",
      "Warning: Cannot extract transcript CHS.10562.5's sequence since the chromosome it locates, chr11_KI270831v1_alt, is absent!\n",
      "Warning: Cannot extract transcript CHS.10562.6's sequence since the chromosome it locates, chr11_KI270831v1_alt, is absent!\n",
      "Warning: Cannot extract transcript CHS.10562.7's sequence since the chromosome it locates, chr11_KI270831v1_alt, is absent!\n",
      "Warning: Cannot extract transcript CHS.10563.1's sequence since the chromosome it locates, chr11_KI270831v1_alt, is absent!\n",
      "Warning: Cannot extract transcript CHS.10564.1's sequence since the chromosome it locates, chr11_KI270831v1_alt, is absent!\n",
      "Warning: Cannot extract transcript CHS.10564.13's sequence since the chromosome it locates, chr11_KI270831v1_alt, is absent!\n",
      "Warning: Cannot extract transcript CHS.10564.17's sequence since the chromosome it locates, chr11_KI270831v1_alt, is absent!\n",
      "Warning: Cannot extract transcript CHS.10564.18's sequence since the chromosome it locates, chr11_KI270831v1_alt, is absent!\n",
      "Warning: Cannot extract transcript CHS.10564.19's sequence since the chromosome it locates, chr11_KI270831v1_alt, is absent!\n",
      "Warning: Cannot extract transcript CHS.10564.20's sequence since the chromosome it locates, chr11_KI270831v1_alt, is absent!\n",
      "Warning: Cannot extract transcript CHS.10564.21's sequence since the chromosome it locates, chr11_KI270831v1_alt, is absent!\n",
      "Warning: Cannot extract transcript CHS.10564.22's sequence since the chromosome it locates, chr11_KI270831v1_alt, is absent!\n",
      "Warning: 10088 transcripts are failed to extract because their chromosome sequences are absent.\n"
     ]
    },
    {
     "name": "stdout",
     "output_type": "stream",
     "text": [
      "Parsed 200000 lines\n",
      "Parsed 400000 lines\n",
      "Parsed 600000 lines\n",
      "Parsed 800000 lines\n",
      "Parsed 1000000 lines\n",
      "Parsed 1200000 lines\n",
      "Parsed 1400000 lines\n",
      "Parsed 1600000 lines\n",
      "Parsed 1800000 lines\n",
      "Parsed 2000000 lines\n",
      "Parsed 2200000 lines\n",
      "Parsed 2400000 lines\n",
      "Parsed 2600000 lines\n",
      "Parsing gtf File is done!\n",
      "/ccb/salz8-3/avaraby1/HIV_Atlas/HIV_Atlas_Experiments/data/hg38_K03454.fasta is processed!\n",
      "158404 transcripts are extracted.\n",
      "Extracting sequences is done!\n",
      "Group File is generated!\n",
      "Transcript Information File is generated!\n",
      "Chromosome List File is generated!\n",
      "Extracted Sequences File is generated!\n",
      "\n",
      "rsem-preref /ccb/salz8-3/avaraby1/HIV_Atlas/HIV_Atlas_Experiments/data/hg38_K03454_rsem.transcripts.fa 1 /ccb/salz8-3/avaraby1/HIV_Atlas/HIV_Atlas_Experiments/data/hg38_K03454_rsem\n",
      "Refs.makeRefs finished!\n",
      "Refs.saveRefs finished!\n",
      "/ccb/salz8-3/avaraby1/HIV_Atlas/HIV_Atlas_Experiments/data/hg38_K03454_rsem.idx.fa is generated!\n",
      "/ccb/salz8-3/avaraby1/HIV_Atlas/HIV_Atlas_Experiments/data/hg38_K03454_rsem.n2g.idx.fa is generated!\n",
      "\n"
     ]
    },
    {
     "data": {
      "text/plain": [
       "CompletedProcess(args='rsem-prepare-reference --gtf /ccb/salz8-3/avaraby1/HIV_Atlas/HIV_Atlas_Experiments/data/hg38_K03454.gtf /ccb/salz8-3/avaraby1/HIV_Atlas/HIV_Atlas_Experiments/data/hg38_K03454.fasta /ccb/salz8-3/avaraby1/HIV_Atlas/HIV_Atlas_Experiments/data/hg38_K03454_rsem', returncode=0)"
      ]
     },
     "execution_count": 14,
     "metadata": {},
     "output_type": "execute_result"
    }
   ],
   "source": [
    "# rsem prep\n",
    "cmd = f\"rsem-prepare-reference --gtf {reference_gtf_fname} {reference_fasta_fname} {data_dir / 'hg38_K03454_rsem'}\"\n",
    "print(cmd)\n",
    "subprocess.run(cmd, shell=True, check=True)"
   ]
  },
  {
   "cell_type": "code",
   "execution_count": 7,
   "metadata": {},
   "outputs": [
    {
     "name": "stdout",
     "output_type": "stream",
     "text": [
      "dexseq_prepare_annotation.py /ccb/salz8-3/avaraby1/HIV_Atlas/HIV_Atlas_Experiments/data/hg38_K03454.gtf /ccb/salz8-3/avaraby1/HIV_Atlas/HIV_Atlas_Experiments/data/hg38_K03454.dexseq.gtf\n"
     ]
    },
    {
     "name": "stderr",
     "output_type": "stream",
     "text": [
      "/bin/sh: line 1: dexseq_prepare_annotation.py: command not found\n"
     ]
    },
    {
     "ename": "CalledProcessError",
     "evalue": "Command 'dexseq_prepare_annotation.py /ccb/salz8-3/avaraby1/HIV_Atlas/HIV_Atlas_Experiments/data/hg38_K03454.gtf /ccb/salz8-3/avaraby1/HIV_Atlas/HIV_Atlas_Experiments/data/hg38_K03454.dexseq.gtf' returned non-zero exit status 127.",
     "output_type": "error",
     "traceback": [
      "\u001b[0;31m---------------------------------------------------------------------------\u001b[0m",
      "\u001b[0;31mCalledProcessError\u001b[0m                        Traceback (most recent call last)",
      "Cell \u001b[0;32mIn[7], line 4\u001b[0m\n\u001b[1;32m      2\u001b[0m cmd \u001b[38;5;241m=\u001b[39m \u001b[38;5;124mf\u001b[39m\u001b[38;5;124m\"\u001b[39m\u001b[38;5;124mdexseq_prepare_annotation.py \u001b[39m\u001b[38;5;132;01m{\u001b[39;00mreference_gtf_fname\u001b[38;5;132;01m}\u001b[39;00m\u001b[38;5;124m \u001b[39m\u001b[38;5;132;01m{\u001b[39;00mdata_dir\u001b[38;5;250m \u001b[39m\u001b[38;5;241m/\u001b[39m\u001b[38;5;250m \u001b[39m\u001b[38;5;124m'\u001b[39m\u001b[38;5;124mhg38_K03454.dexseq.gtf\u001b[39m\u001b[38;5;124m'\u001b[39m\u001b[38;5;132;01m}\u001b[39;00m\u001b[38;5;124m\"\u001b[39m\n\u001b[1;32m      3\u001b[0m \u001b[38;5;28mprint\u001b[39m(cmd)\n\u001b[0;32m----> 4\u001b[0m \u001b[43msubprocess\u001b[49m\u001b[38;5;241;43m.\u001b[39;49m\u001b[43mrun\u001b[49m\u001b[43m(\u001b[49m\u001b[43mcmd\u001b[49m\u001b[43m,\u001b[49m\u001b[43m \u001b[49m\u001b[43mshell\u001b[49m\u001b[38;5;241;43m=\u001b[39;49m\u001b[38;5;28;43;01mTrue\u001b[39;49;00m\u001b[43m,\u001b[49m\u001b[43m \u001b[49m\u001b[43mcheck\u001b[49m\u001b[38;5;241;43m=\u001b[39;49m\u001b[38;5;28;43;01mTrue\u001b[39;49;00m\u001b[43m)\u001b[49m\n",
      "File \u001b[0;32m/ccb/salz8-3/avaraby1/HIV_Atlas/.conda/lib/python3.11/subprocess.py:571\u001b[0m, in \u001b[0;36mrun\u001b[0;34m(input, capture_output, timeout, check, *popenargs, **kwargs)\u001b[0m\n\u001b[1;32m    569\u001b[0m     retcode \u001b[38;5;241m=\u001b[39m process\u001b[38;5;241m.\u001b[39mpoll()\n\u001b[1;32m    570\u001b[0m     \u001b[38;5;28;01mif\u001b[39;00m check \u001b[38;5;129;01mand\u001b[39;00m retcode:\n\u001b[0;32m--> 571\u001b[0m         \u001b[38;5;28;01mraise\u001b[39;00m CalledProcessError(retcode, process\u001b[38;5;241m.\u001b[39margs,\n\u001b[1;32m    572\u001b[0m                                  output\u001b[38;5;241m=\u001b[39mstdout, stderr\u001b[38;5;241m=\u001b[39mstderr)\n\u001b[1;32m    573\u001b[0m \u001b[38;5;28;01mreturn\u001b[39;00m CompletedProcess(process\u001b[38;5;241m.\u001b[39margs, retcode, stdout, stderr)\n",
      "\u001b[0;31mCalledProcessError\u001b[0m: Command 'dexseq_prepare_annotation.py /ccb/salz8-3/avaraby1/HIV_Atlas/HIV_Atlas_Experiments/data/hg38_K03454.gtf /ccb/salz8-3/avaraby1/HIV_Atlas/HIV_Atlas_Experiments/data/hg38_K03454.dexseq.gtf' returned non-zero exit status 127."
     ]
    }
   ],
   "source": [
    "# prepare for dexseq\n",
    "cmd = f\"dexseq_prepare_annotation.py {reference_gtf_fname} {data_dir / 'hg38_K03454.dexseq.gtf'}\"\n",
    "print(cmd)\n",
    "subprocess.run(cmd, shell=True, check=True)"
   ]
  },
  {
   "cell_type": "code",
   "execution_count": null,
   "metadata": {},
   "outputs": [],
   "source": []
  }
 ],
 "metadata": {
  "kernelspec": {
   "display_name": "hivAtlas",
   "language": "python",
   "name": "python3"
  },
  "language_info": {
   "codemirror_mode": {
    "name": "ipython",
    "version": 3
   },
   "file_extension": ".py",
   "mimetype": "text/x-python",
   "name": "python",
   "nbconvert_exporter": "python",
   "pygments_lexer": "ipython3",
   "version": "3.11.6"
  }
 },
 "nbformat": 4,
 "nbformat_minor": 4
}
