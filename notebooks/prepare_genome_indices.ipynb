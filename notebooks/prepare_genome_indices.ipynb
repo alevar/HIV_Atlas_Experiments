{
 "cells": [
  {
   "cell_type": "markdown",
   "metadata": {},
   "source": [
    "Prepare genome files (fasta, gtf, etc) and build indices for use in other tests"
   ]
  },
  {
   "cell_type": "code",
   "execution_count": null,
   "metadata": {},
   "outputs": [],
   "source": [
    "import os\n",
    "import re\n",
    "import sys\n",
    "import csv\n",
    "import time\n",
    "import random\n",
    "import requests\n",
    "import subprocess\n",
    "from pathlib import Path\n",
    "from typing import List, Union\n",
    "\n",
    "import numpy as np\n",
    "import pandas as pd\n",
    "\n",
    "import seaborn as sns\n",
    "import matplotlib.pyplot as plt\n",
    "\n",
    "from pysradb import SRAweb\n",
    "\n",
    "from Bio import SeqIO"
   ]
  },
  {
   "cell_type": "code",
   "execution_count": 4,
   "metadata": {},
   "outputs": [],
   "source": [
    "prj_base_dir = Path.cwd().parent.parent\n",
    "\n",
    "soft_dir = prj_base_dir / 'HIV_Atlas_Experiments' / 'soft'\n",
    "\n",
    "sequence_dir = prj_base_dir / 'HIV_Atlas_Creation' / 'data' / 'sequences'\n",
    "assert sequence_dir.exists(), f\"sequence_dir does not exist: {sequence_dir}\"\n",
    "\n",
    "annotation_dir = prj_base_dir / 'HIV_Atlas_Creation' / 'data' / 'annotation'\n",
    "assert annotation_dir.exists(), f\"annotation_dir does not exist: {annotation_dir}\"\n",
    "\n",
    "data_dir = prj_base_dir / 'HIV_Atlas_Experiments' / 'data'\n",
    "hg38_fasta_fname = Path('~/genomes/human/hg38/hg38_p12_ucsc.fa').expanduser().resolve()\n",
    "chess_gtf_fname = Path('~/genomes/human/hg38/annotations/chess3.1.3.GRCh38.gtf').expanduser().resolve()"
   ]
  },
  {
   "cell_type": "code",
   "execution_count": 5,
   "metadata": {},
   "outputs": [],
   "source": [
    "%load_ext autoreload\n",
    "%autoreload 1\n",
    "\n",
    "sys.path.insert(0, str(soft_dir / \"genomic_scripts\"))\n",
    "%aimport definitions"
   ]
  },
  {
   "cell_type": "code",
   "execution_count": 8,
   "metadata": {},
   "outputs": [],
   "source": [
    "# method to generate all data given a host and pathogen fasta and gtf files\n",
    "def generate_genome_indices(\n",
    "    fn_out_dir: Union[str, Path],\n",
    "    host_fasta_fname: Union[str, Path] = None,\n",
    "    host_gtf_fname: Union[str, Path] = None,\n",
    "    pathogen_fasta_fname: Union[str, Path] = None,\n",
    "    pathogen_gtf_fname: Union[str, Path] = None,\n",
    "):\n",
    "    if host_fasta_fname is not None:\n",
    "        assert os.path.exists(host_fasta_fname), f\"host_fasta_fname does not exist: {host_fasta_fname}\"\n",
    "    if host_gtf_fname is not None:\n",
    "        assert os.path.exists(host_gtf_fname), f\"host_gtf_fname does not exist: {host_gtf_fname}\"\n",
    "    if pathogen_fasta_fname is not None:\n",
    "        assert os.path.exists(pathogen_fasta_fname), f\"pathogen_fasta_fname does not exist: {pathogen_fasta_fname}\"\n",
    "    if pathogen_gtf_fname is not None:\n",
    "        assert os.path.exists(pathogen_gtf_fname), f\"pathogen_gtf_fname does not exist: {pathogen_gtf_fname}\"\n",
    "    \n",
    "    # create the out_dir if it does not exist\n",
    "    fn_out_dir = Path(fn_out_dir)\n",
    "    fn_out_dir.mkdir(parents=True, exist_ok=True)\n",
    "\n",
    "    fn_reference_fasta_fname = fn_out_dir / 'reference.fasta'\n",
    "    fn_reference_gtf_fname = fn_out_dir / 'reference.gtf'\n",
    "\n",
    "    # create joint reference fasta\n",
    "    with open(fn_reference_fasta_fname, 'w') as outFP:\n",
    "        if host_fasta_fname is not None:\n",
    "            for record in SeqIO.parse(host_fasta_fname.expanduser(), 'fasta'):\n",
    "                SeqIO.write(record, outFP, 'fasta')\n",
    "        if pathogen_fasta_fname is not None:\n",
    "            for record in SeqIO.parse(pathogen_fasta_fname.expanduser(), 'fasta'):\n",
    "                SeqIO.write(record, outFP, 'fasta')\n",
    "\n",
    "    # create joint reference gtf\n",
    "    with open(fn_reference_gtf_fname, 'w') as outFP:\n",
    "        if host_gtf_fname is not None:\n",
    "            with open(host_gtf_fname.expanduser(), 'r') as inFP:\n",
    "                for line in inFP:\n",
    "                    if line.startswith('#'):\n",
    "                        continue\n",
    "                    else:\n",
    "                        outFP.write(line)\n",
    "        if pathogen_gtf_fname is not None:\n",
    "            with open(pathogen_gtf_fname.expanduser(), 'r') as inFP:\n",
    "                for line in inFP:\n",
    "                    if line.startswith('#'):\n",
    "                        continue\n",
    "                    else:\n",
    "                        outFP.write(line)\n",
    "\n",
    "    # index the new reference fasta\n",
    "    subprocess.run(['samtools', 'faidx', fn_reference_fasta_fname])\n",
    "\n",
    "    # build hisat2 index\n",
    "    # extract junctions and exons files for the index construction\n",
    "    fn_junctions_fname = fn_out_dir / 'reference.junctions'\n",
    "    fn_exons_fname = fn_out_dir / 'reference.exons'\n",
    "\n",
    "    subprocess.run([\"hisat2_extract_splice_sites.py\", fn_reference_gtf_fname], stdout=open(fn_junctions_fname, 'w'), check=True)\n",
    "    print(f\"Splice sites extracted to {fn_junctions_fname}\")\n",
    "\n",
    "    subprocess.run([\"hisat2_extract_exons.py\", fn_reference_gtf_fname], stdout=open(fn_exons_fname, 'w'), check=True)\n",
    "    print(f\"Exons extracted to {fn_exons_fname}\")\n",
    "\n",
    "    fn_reference_ht2_index_prefix = fn_out_dir / 'reference'\n",
    "    cmd = [\"hisat2-build\", \"-p\", \"64\", \"--ss\", str(fn_junctions_fname), \"--exon\", str(fn_exons_fname), str(fn_reference_fasta_fname), str(fn_reference_ht2_index_prefix)]\n",
    "    # subprocess.call(cmd)\n",
    "    print(' '.join(cmd))\n",
    "\n",
    "    # generate transcript to gene id mapping\n",
    "    t2g = definitions.get_attribute(fn_reference_gtf_fname,\"gene_id\")\n",
    "    t2g.rename(columns={'tid':\"tx_id\"}, inplace=True)\n",
    "    t2g.to_csv(fn_out_dir / 'reference.t2g.tsv', sep='\\t', index=False)\n",
    "\n",
    "    # build salmon index\n",
    "    # 1. extract transcript sequences\n",
    "    fn_transcript_fasta_fname = fn_out_dir / 'reference.transcripts.fasta'\n",
    "    cmd = f\"gffread -w {fn_transcript_fasta_fname} -g {fn_reference_fasta_fname} {fn_reference_gtf_fname}\"\n",
    "    print(cmd)\n",
    "    subprocess.run(cmd, shell=True, check=True)"
   ]
  },
  {
   "cell_type": "code",
   "execution_count": null,
   "metadata": {},
   "outputs": [],
   "source": [
    "# run for KT284371.1\n",
    "KT284371_fasta_fname = prj_base_dir / 'HIV_Atlas_Creation/data/sequences/KT284371.fasta'\n",
    "KT284371_gtf_fname = prj_base_dir / 'HIV_Atlas_Creation/data/annotation/KT284371/KT284371.vira.gtf'\n",
    "\n",
    "generate_genome_indices(\n",
    "    host_fasta_fname=hg38_fasta_fname,\n",
    "    host_gtf_fname=chess_gtf_fname,\n",
    "    pathogen_fasta_fname=KT284371_fasta_fname,\n",
    "    pathogen_gtf_fname=KT284371_gtf_fname,\n",
    "    fn_out_dir=data_dir / 'KT284371.1',\n",
    ")"
   ]
  },
  {
   "cell_type": "code",
   "execution_count": null,
   "metadata": {},
   "outputs": [
    {
     "name": "stdout",
     "output_type": "stream",
     "text": [
      "Splice sites extracted to /ccb/salz8-3/avaraby1/HIV_Atlas/HIV_Atlas_Experiments/data/K03455.1/reference.junctions\n",
      "Exons extracted to /ccb/salz8-3/avaraby1/HIV_Atlas/HIV_Atlas_Experiments/data/K03455.1/reference.exons\n",
      "hisat2-build -p 64 --ss /ccb/salz8-3/avaraby1/HIV_Atlas/HIV_Atlas_Experiments/data/K03455.1/reference.junctions --exon /ccb/salz8-3/avaraby1/HIV_Atlas/HIV_Atlas_Experiments/data/K03455.1/reference.exons /ccb/salz8-3/avaraby1/HIV_Atlas/HIV_Atlas_Experiments/data/K03455.1/reference.fasta /ccb/salz8-3/avaraby1/HIV_Atlas/HIV_Atlas_Experiments/data/K03455.1/reference\n",
      "gffread -w /ccb/salz8-3/avaraby1/HIV_Atlas/HIV_Atlas_Experiments/data/K03455.1/reference.transcripts.fasta -g /ccb/salz8-3/avaraby1/HIV_Atlas/HIV_Atlas_Experiments/data/K03455.1/reference.fasta /ccb/salz8-3/avaraby1/HIV_Atlas/HIV_Atlas_Experiments/data/K03455.1/reference.gtf\n"
     ]
    }
   ],
   "source": [
    "# run for K03455\n",
    "k03455_fasta_fname = prj_base_dir / 'HIV_Atlas_Creation/data/reference/K03455.1.fasta'\n",
    "k03455_gtf_fname = prj_base_dir / 'HIV_Atlas_Creation/data/reference/K03455.1.gtf'\n",
    "\n",
    "generate_genome_indices(\n",
    "    host_fasta_fname=hg38_fasta_fname,\n",
    "    host_gtf_fname=chess_gtf_fname,\n",
    "    pathogen_fasta_fname=k03455_fasta_fname,\n",
    "    pathogen_gtf_fname=k03455_gtf_fname,\n",
    "    fn_out_dir=data_dir / 'K03455.1',\n",
    ")"
   ]
  },
  {
   "cell_type": "code",
   "execution_count": null,
   "metadata": {},
   "outputs": [
    {
     "name": "stdout",
     "output_type": "stream",
     "text": [
      "Splice sites extracted to /ccb/salz8-3/avaraby1/HIV_Atlas/HIV_Atlas_Experiments/data/NL43/reference.junctions\n",
      "Exons extracted to /ccb/salz8-3/avaraby1/HIV_Atlas/HIV_Atlas_Experiments/data/NL43/reference.exons\n",
      "hisat2-build -p 64 --ss /ccb/salz8-3/avaraby1/HIV_Atlas/HIV_Atlas_Experiments/data/NL43/reference.junctions --exon /ccb/salz8-3/avaraby1/HIV_Atlas/HIV_Atlas_Experiments/data/NL43/reference.exons /ccb/salz8-3/avaraby1/HIV_Atlas/HIV_Atlas_Experiments/data/NL43/reference.fasta /ccb/salz8-3/avaraby1/HIV_Atlas/HIV_Atlas_Experiments/data/NL43/reference\n",
      "gffread -w /ccb/salz8-3/avaraby1/HIV_Atlas/HIV_Atlas_Experiments/data/NL43/reference.transcripts.fasta -g /ccb/salz8-3/avaraby1/HIV_Atlas/HIV_Atlas_Experiments/data/NL43/reference.fasta /ccb/salz8-3/avaraby1/HIV_Atlas/HIV_Atlas_Experiments/data/NL43/reference.gtf\n"
     ]
    }
   ],
   "source": [
    "# run for NL4-3 from the annotation experiment\n",
    "nl43_fasta_fname = prj_base_dir / 'HIV_Atlas_Experiments/data/NL4-3.fasta'\n",
    "nl43_gtf_fname = prj_base_dir / 'HIV_Atlas_Experiments/results/annotation_nl43/NL4-3.vira.gtf'\n",
    "\n",
    "generate_genome_indices(\n",
    "    host_fasta_fname=hg38_fasta_fname,\n",
    "    host_gtf_fname=chess_gtf_fname,\n",
    "    pathogen_fasta_fname=nl43_fasta_fname,\n",
    "    pathogen_gtf_fname=nl43_gtf_fname,\n",
    "    fn_out_dir=data_dir / 'NL43',\n",
    ")"
   ]
  },
  {
   "cell_type": "code",
   "execution_count": null,
   "metadata": {},
   "outputs": [
    {
     "name": "stdout",
     "output_type": "stream",
     "text": [
      "Splice sites extracted to /ccb/salz8-3/avaraby1/HIV_Atlas/HIV_Atlas_Experiments/data/K02013.1/reference.junctions\n",
      "Exons extracted to /ccb/salz8-3/avaraby1/HIV_Atlas/HIV_Atlas_Experiments/data/K02013.1/reference.exons\n",
      "hisat2-build -p 64 --ss /ccb/salz8-3/avaraby1/HIV_Atlas/HIV_Atlas_Experiments/data/K02013.1/reference.junctions --exon /ccb/salz8-3/avaraby1/HIV_Atlas/HIV_Atlas_Experiments/data/K02013.1/reference.exons /ccb/salz8-3/avaraby1/HIV_Atlas/HIV_Atlas_Experiments/data/K02013.1/reference.fasta /ccb/salz8-3/avaraby1/HIV_Atlas/HIV_Atlas_Experiments/data/K02013.1/reference\n",
      "gffread -w /ccb/salz8-3/avaraby1/HIV_Atlas/HIV_Atlas_Experiments/data/K02013.1/reference.transcripts.fasta -g /ccb/salz8-3/avaraby1/HIV_Atlas/HIV_Atlas_Experiments/data/K02013.1/reference.fasta /ccb/salz8-3/avaraby1/HIV_Atlas/HIV_Atlas_Experiments/data/K02013.1/reference.gtf\n"
     ]
    }
   ],
   "source": [
    "# run for K02013.1 from the annotation experiment\n",
    "K02013_fasta_fname = prj_base_dir / 'HIV_Atlas_Experiments/data/K02013.1.fasta'\n",
    "K02013_gtf_fname = prj_base_dir / 'HIV_Atlas_Experiments/results/annotation_K02013.1/K02013.1.vira.gtf'\n",
    "\n",
    "generate_genome_indices(\n",
    "    host_fasta_fname=hg38_fasta_fname,\n",
    "    host_gtf_fname=chess_gtf_fname,\n",
    "    pathogen_fasta_fname=K02013_fasta_fname,\n",
    "    pathogen_gtf_fname=K02013_gtf_fname,\n",
    "    fn_out_dir=data_dir / 'K02013.1',\n",
    ")"
   ]
  },
  {
   "cell_type": "code",
   "execution_count": 9,
   "metadata": {},
   "outputs": [
    {
     "name": "stdout",
     "output_type": "stream",
     "text": [
      "Splice sites extracted to /ccb/salz8-3/avaraby1/HIV_Atlas/HIV_Atlas_Experiments/data/PRJNA392230_hivonly/reference.junctions\n",
      "Exons extracted to /ccb/salz8-3/avaraby1/HIV_Atlas/HIV_Atlas_Experiments/data/PRJNA392230_hivonly/reference.exons\n",
      "hisat2-build -p 64 --ss /ccb/salz8-3/avaraby1/HIV_Atlas/HIV_Atlas_Experiments/data/PRJNA392230_hivonly/reference.junctions --exon /ccb/salz8-3/avaraby1/HIV_Atlas/HIV_Atlas_Experiments/data/PRJNA392230_hivonly/reference.exons /ccb/salz8-3/avaraby1/HIV_Atlas/HIV_Atlas_Experiments/data/PRJNA392230_hivonly/reference.fasta /ccb/salz8-3/avaraby1/HIV_Atlas/HIV_Atlas_Experiments/data/PRJNA392230_hivonly/reference\n",
      "gffread -w /ccb/salz8-3/avaraby1/HIV_Atlas/HIV_Atlas_Experiments/data/PRJNA392230_hivonly/reference.transcripts.fasta -g /ccb/salz8-3/avaraby1/HIV_Atlas/HIV_Atlas_Experiments/data/PRJNA392230_hivonly/reference.fasta /ccb/salz8-3/avaraby1/HIV_Atlas/HIV_Atlas_Experiments/data/PRJNA392230_hivonly/reference.gtf\n"
     ]
    }
   ],
   "source": [
    "# run for the PRJNA392230 custom genome\n",
    "PRJNA392230_fasta_fname = prj_base_dir / 'HIV_Atlas_Experiments/data/PRJNA392230.fasta'\n",
    "PRJNA392230_gtf_fname = prj_base_dir / 'HIV_Atlas_Experiments/results/annotation_PRJNA392230/PRJNA392230.vira.gtf'\n",
    "\n",
    "# generate_genome_indices(\n",
    "#     host_fasta_fname=hg38_fasta_fname,\n",
    "#     host_gtf_fname=chess_gtf_fname,\n",
    "#     pathogen_fasta_fname=PRJNA392230_fasta_fname,\n",
    "#     pathogen_gtf_fname=PRJNA392230_gtf_fname,\n",
    "#     fn_out_dir=data_dir / 'PRJNA392230',\n",
    "# )\n",
    "\n",
    "generate_genome_indices(\n",
    "    host_fasta_fname=None,\n",
    "    host_gtf_fname=None,\n",
    "    pathogen_fasta_fname=PRJNA392230_fasta_fname,\n",
    "    pathogen_gtf_fname=PRJNA392230_gtf_fname,\n",
    "    fn_out_dir=data_dir / 'PRJNA392230_hivonly',\n",
    ")"
   ]
  },
  {
   "cell_type": "code",
   "execution_count": null,
   "metadata": {},
   "outputs": [
    {
     "name": "stdout",
     "output_type": "stream",
     "text": [
      "Splice sites extracted to /ccb/salz8-3/avaraby1/HIV_Atlas/HIV_Atlas_Experiments/data/SIV239/reference.junctions\n",
      "Exons extracted to /ccb/salz8-3/avaraby1/HIV_Atlas/HIV_Atlas_Experiments/data/SIV239/reference.exons\n",
      "hisat2-build -p 64 --ss /ccb/salz8-3/avaraby1/HIV_Atlas/HIV_Atlas_Experiments/data/SIV239/reference.junctions --exon /ccb/salz8-3/avaraby1/HIV_Atlas/HIV_Atlas_Experiments/data/SIV239/reference.exons /ccb/salz8-3/avaraby1/HIV_Atlas/HIV_Atlas_Experiments/data/SIV239/reference.fasta /ccb/salz8-3/avaraby1/HIV_Atlas/HIV_Atlas_Experiments/data/SIV239/reference\n",
      "gffread -w /ccb/salz8-3/avaraby1/HIV_Atlas/HIV_Atlas_Experiments/data/SIV239/reference.transcripts.fasta -g /ccb/salz8-3/avaraby1/HIV_Atlas/HIV_Atlas_Experiments/data/SIV239/reference.fasta /ccb/salz8-3/avaraby1/HIV_Atlas/HIV_Atlas_Experiments/data/SIV239/reference.gtf\n"
     ]
    }
   ],
   "source": [
    "# run for M33262.1\n",
    "\n",
    "# extract from gz and convert with gffread from gff to gtf\n",
    "siv_gz_fname = \"/ccb/salz8-3/avaraby1/HIV_Atlas/HIV_Atlas_Data/data/M33262.1/M33262.1.gff.gz\"\n",
    "siv239_fasta_fname = Path(\"/ccb/salz8-3/avaraby1/HIV_Atlas/HIV_Atlas_Data/data/M33262.1/M33262.1.fasta\").expanduser().resolve()\n",
    "\n",
    "assert os.path.exists(siv_gz_fname), f\"siv_gz_fname does not exist: {siv_gz_fname}\"\n",
    "\n",
    "outdir = data_dir / \"SIV239\"\n",
    "os.makedirs(outdir, exist_ok=True)\n",
    "\n",
    "siv239_gtf_fname = outdir / \"M33262.1.gtf\"\n",
    "cmd = f\"zcat {siv_gz_fname} | gffread -T -F -o {siv239_gtf_fname} -\"\n",
    "subprocess.call(cmd, shell=True)\n",
    "\n",
    "mmul_fasta_fname = Path('/ccb/salz4-4/avaraby/Kristen.ATAC_RNA/data/Macaca_mulatta.Mmul_10.dna.toplevel.upper.fasta').expanduser().resolve()\n",
    "mmul_gtf_fname = Path('/ccb/salz4-4/avaraby/siv_chimera_protocol/data/host.merged.clean.gtf').expanduser().resolve()\n",
    "\n",
    "generate_genome_indices(\n",
    "    host_fasta_fname=mmul_fasta_fname,\n",
    "    host_gtf_fname=mmul_gtf_fname,\n",
    "    pathogen_fasta_fname=siv239_fasta_fname,\n",
    "    pathogen_gtf_fname=siv239_gtf_fname,\n",
    "    fn_out_dir=outdir,\n",
    ")"
   ]
  },
  {
   "cell_type": "code",
   "execution_count": null,
   "metadata": {},
   "outputs": [],
   "source": []
  }
 ],
 "metadata": {
  "kernelspec": {
   "display_name": "hivAtlas",
   "language": "python",
   "name": "python3"
  },
  "language_info": {
   "codemirror_mode": {
    "name": "ipython",
    "version": 3
   },
   "file_extension": ".py",
   "mimetype": "text/x-python",
   "name": "python",
   "nbconvert_exporter": "python",
   "pygments_lexer": "ipython3",
   "version": "3.11.6"
  }
 },
 "nbformat": 4,
 "nbformat_minor": 4
}
