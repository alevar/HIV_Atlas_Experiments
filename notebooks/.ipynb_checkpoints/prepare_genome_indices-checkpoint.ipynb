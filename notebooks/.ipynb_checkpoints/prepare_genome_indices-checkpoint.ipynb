{
 "cells": [
  {
   "cell_type": "markdown",
   "metadata": {},
   "source": [
    "Prepare genome files (fasta, gtf, etc) and build indices for use in other tests"
   ]
  },
  {
   "cell_type": "code",
   "execution_count": 2,
   "metadata": {},
   "outputs": [
    {
     "name": "stderr",
     "output_type": "stream",
     "text": [
      "/ccb/salz4-4/avaraby/miniconda3/lib/python3.11/site-packages/pysradb/utils.py:14: TqdmExperimentalWarning: Using `tqdm.autonotebook.tqdm` in notebook mode. Use `tqdm.tqdm` instead to force console mode (e.g. in jupyter console)\n",
      "  from tqdm.autonotebook import tqdm\n"
     ]
    }
   ],
   "source": [
    "import os\n",
    "import re\n",
    "import sys\n",
    "import csv\n",
    "import time\n",
    "import random\n",
    "import requests\n",
    "import subprocess\n",
    "from pathlib import Path\n",
    "from typing import List, Union\n",
    "\n",
    "import numpy as np\n",
    "import pandas as pd\n",
    "\n",
    "import seaborn as sns\n",
    "import matplotlib.pyplot as plt\n",
    "\n",
    "from pysradb import SRAweb\n",
    "\n",
    "from Bio import SeqIO"
   ]
  },
  {
   "cell_type": "code",
   "execution_count": 3,
   "metadata": {},
   "outputs": [],
   "source": [
    "prj_base_dir = Path.cwd().parent.parent\n",
    "\n",
    "sequence_dir = prj_base_dir / 'HIV_Atlas_Creation' / 'data' / 'sequences'\n",
    "assert sequence_dir.exists(), f\"sequence_dir does not exist: {sequence_dir}\"\n",
    "\n",
    "annotation_dir = prj_base_dir / 'HIV_Atlas_Creation' / 'data' / 'annotation'\n",
    "assert annotation_dir.exists(), f\"annotation_dir does not exist: {annotation_dir}\"\n",
    "\n",
    "hiv_fasta_fname = sequence_dir / 'K03454.fasta'\n",
    "hiv_gtf_fname = annotation_dir / 'K03454/K03454.vira.gtf'\n",
    "\n",
    "data_dir = prj_base_dir / 'HIV_Atlas_Experiments' / 'data'\n",
    "hg38_fasta_fname = Path('~/genomes/human/hg38/hg38_p12_ucsc.no_alts.no_fixs.fa')\n",
    "chess_gtf_fname = Path('~/genomes/human/hg38/annotations/chess3.1.3.GRCh38.gtf')"
   ]
  },
  {
   "cell_type": "code",
   "execution_count": 4,
   "metadata": {},
   "outputs": [],
   "source": [
    "reference_fasta_fname = data_dir / 'hg38_K03454.fasta'\n",
    "reference_gtf_fname = data_dir / 'hg38_K03454.gtf'\n",
    "\n",
    "reference_ht2_index_prefix = data_dir / 'hg38_K03454'"
   ]
  },
  {
   "cell_type": "code",
   "execution_count": 5,
   "metadata": {},
   "outputs": [],
   "source": [
    "# create joint reference fasta\n",
    "with open(reference_fasta_fname, 'w') as outFP:\n",
    "    for record in SeqIO.parse(hg38_fasta_fname.expanduser(), 'fasta'):\n",
    "        SeqIO.write(record, outFP, 'fasta')\n",
    "    for record in SeqIO.parse(chess_gtf_fname.expanduser(), 'fasta'):\n",
    "        SeqIO.write(record, outFP, 'fasta')\n",
    "\n",
    "# create joint reference gtf\n",
    "with open(reference_gtf_fname, 'w') as outFP:\n",
    "    with open(chess_gtf_fname.expanduser(), 'r') as inFP:\n",
    "        for line in inFP:\n",
    "            if line.startswith('#'):\n",
    "                continue\n",
    "            else:\n",
    "                outFP.write(line)\n",
    "    with open(hiv_gtf_fname.expanduser(), 'r') as inFP:\n",
    "        for line in inFP:\n",
    "            if line.startswith('#'):\n",
    "                continue\n",
    "            else:\n",
    "                outFP.write(line)"
   ]
  },
  {
   "cell_type": "code",
   "execution_count": 6,
   "metadata": {},
   "outputs": [
    {
     "name": "stdout",
     "output_type": "stream",
     "text": [
      "Splice sites extracted to /ccb/salz8-3/avaraby1/HIV_Atlas/HIV_Atlas_Experiments/data/hg38_K03454.junctions\n",
      "Exons extracted to /ccb/salz8-3/avaraby1/HIV_Atlas/HIV_Atlas_Experiments/data/hg38_K03454.exons\n",
      "hisat2-build -p 64 --ss /ccb/salz8-3/avaraby1/HIV_Atlas/HIV_Atlas_Experiments/data/hg38_K03454.junctions --exon /ccb/salz8-3/avaraby1/HIV_Atlas/HIV_Atlas_Experiments/data/hg38_K03454.exons /ccb/salz8-3/avaraby1/HIV_Atlas/HIV_Atlas_Experiments/data/hg38_K03454.fasta /ccb/salz8-3/avaraby1/HIV_Atlas/HIV_Atlas_Experiments/data/hg38_K03454\n"
     ]
    }
   ],
   "source": [
    "# build hisat2 index\n",
    "\n",
    "# extract junctions and exons files for the index construction\n",
    "junctions_fname = data_dir / 'hg38_K03454.junctions'\n",
    "exons_fname = data_dir / 'hg38_K03454.exons'\n",
    "\n",
    "subprocess.run([\"hisat2_extract_splice_sites.py\", reference_gtf_fname], stdout=open(junctions_fname, 'w'), check=True)\n",
    "print(f\"Splice sites extracted to {junctions_fname}\")\n",
    "\n",
    "subprocess.run([\"hisat2_extract_exons.py\", reference_gtf_fname], stdout=open(exons_fname, 'w'), check=True)\n",
    "print(f\"Exons extracted to {exons_fname}\")\n",
    "\n",
    "cmd = [\"hisat2-build\", \"-p\", \"64\", \"--ss\", str(junctions_fname), \"--exon\", str(exons_fname), str(reference_fasta_fname), str(reference_ht2_index_prefix)]\n",
    "print(' '.join(cmd))"
   ]
  },
  {
   "cell_type": "code",
   "execution_count": null,
   "metadata": {},
   "outputs": [],
   "source": []
  }
 ],
 "metadata": {
  "kernelspec": {
   "display_name": "Python 3 (ipykernel)",
   "language": "python",
   "name": "python3"
  },
  "language_info": {
   "codemirror_mode": {
    "name": "ipython",
    "version": 3
   },
   "file_extension": ".py",
   "mimetype": "text/x-python",
   "name": "python",
   "nbconvert_exporter": "python",
   "pygments_lexer": "ipython3",
   "version": "3.11.7"
  }
 },
 "nbformat": 4,
 "nbformat_minor": 4
}
