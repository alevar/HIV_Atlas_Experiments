{
 "cells": [
  {
   "cell_type": "code",
   "execution_count": null,
   "metadata": {},
   "outputs": [],
   "source": [
    "# running annotation protocol on the K02013 isolate genome"
   ]
  },
  {
   "cell_type": "code",
   "execution_count": 1,
   "metadata": {},
   "outputs": [],
   "source": [
    "import os\n",
    "import re\n",
    "import sys\n",
    "import csv\n",
    "import time\n",
    "import random\n",
    "import requests\n",
    "import subprocess\n",
    "from pathlib import Path\n",
    "\n",
    "import numpy as np\n",
    "import pandas as pd"
   ]
  },
  {
   "cell_type": "code",
   "execution_count": null,
   "metadata": {},
   "outputs": [],
   "source": [
    "base_dir = Path.cwd().parent\n",
    "creation_dir = base_dir.parent / \"HIV_Atlas_Creation\"\n",
    "data_dir = base_dir / 'data'\n",
    "\n",
    "reference_fasta_fname = creation_dir / \"data/reference/K03455.1.fasta\"\n",
    "reference_gtf_fname = creation_dir / \"data/reference/K03455.1.gtf\"\n",
    "\n",
    "K02013_fasta_fname = data_dir / \"K02013.1.fasta\"\n",
    "K02013_guide_gtf_fname = data_dir / \"K02013.1.guide.gtf\" ## gffread -T -F --keep-exon-attrs --force-exons -o K02013.1.guide.gtf K02013.1.guide.gff\n",
    "\n",
    "outdir = base_dir / 'results/annotation_K02013.1'\n",
    "outdir.mkdir(exist_ok=True)\n",
    "\n",
    "# software links\n",
    "soft_dir = creation_dir / 'soft'\n",
    "vira_bin = 'vira'\n",
    "snapper_bin = 'snapper'\n",
    "miniprot_bin = soft_dir / 'miniprot/miniprot'"
   ]
  },
  {
   "cell_type": "code",
   "execution_count": 3,
   "metadata": {},
   "outputs": [],
   "source": [
    "soft_dir = Path().resolve().parent / 'soft/vira'  # Note: removed extra 'vira'\n",
    "sys.path.append(str(soft_dir))\n",
    "\n",
    "from vira.classes.txgroup import Transcriptome, Gene, Bundle\n",
    "from vira.classes.transcript import Transcript, Object"
   ]
  },
  {
   "cell_type": "code",
   "execution_count": 7,
   "metadata": {},
   "outputs": [
    {
     "name": "stdout",
     "output_type": "stream",
     "text": [
      "vira --annotation /ccb/salz8-3/avaraby1/HIV_Atlas/HIV_Atlas_Creation/data/reference/K03455.1.gtf --genome /ccb/salz8-3/avaraby1/HIV_Atlas/HIV_Atlas_Creation/data/reference/K03455.1.fasta --target /ccb/salz8-3/avaraby1/HIV_Atlas/HIV_Atlas_Experiments/data/K02013.1.fasta --guide /ccb/salz8-3/avaraby1/HIV_Atlas/HIV_Atlas_Experiments/data/K02013.1.guide.gtf --output /ccb/salz8-3/avaraby1/HIV_Atlas/HIV_Atlas_Experiments/results/annotation_K02013/K02013.1.vira.gtf --miniprot /ccb/salz8-3/avaraby1/HIV_Atlas/HIV_Atlas_Creation/soft/miniprot/miniprot --snapper snapper --tmp-dir /ccb/salz8-3/avaraby1/HIV_Atlas/HIV_Atlas_Experiments/results/annotation_K02013/K02013.1.tmp\n"
     ]
    },
    {
     "data": {
      "text/plain": [
       "CompletedProcess(args=['vira', '--annotation', '/ccb/salz8-3/avaraby1/HIV_Atlas/HIV_Atlas_Creation/data/reference/K03455.1.gtf', '--genome', '/ccb/salz8-3/avaraby1/HIV_Atlas/HIV_Atlas_Creation/data/reference/K03455.1.fasta', '--target', '/ccb/salz8-3/avaraby1/HIV_Atlas/HIV_Atlas_Experiments/data/K02013.1.fasta', '--guide', '/ccb/salz8-3/avaraby1/HIV_Atlas/HIV_Atlas_Experiments/data/K02013.1.guide.gtf', '--output', '/ccb/salz8-3/avaraby1/HIV_Atlas/HIV_Atlas_Experiments/results/annotation_K02013/K02013.1.vira.gtf', '--miniprot', '/ccb/salz8-3/avaraby1/HIV_Atlas/HIV_Atlas_Creation/soft/miniprot/miniprot', '--snapper', 'snapper', '--tmp-dir', '/ccb/salz8-3/avaraby1/HIV_Atlas/HIV_Atlas_Experiments/results/annotation_K02013/K02013.1.tmp'], returncode=0)"
      ]
     },
     "execution_count": 7,
     "metadata": {},
     "output_type": "execute_result"
    }
   ],
   "source": [
    "output_gtf_fname = outdir / f\"K02013.1.vira.gtf\"\n",
    "stdout_fname = outdir / f\"K02013.1.vira.stdout\"\n",
    "stderr_fname = outdir / f\"K02013.1.vira.stderr\"\n",
    "tmp_dir = outdir / f\"K02013.1.tmp\"\n",
    "\n",
    "cmd = [vira_bin,\n",
    "        \"--annotation\",str(reference_gtf_fname),\n",
    "        \"--genome\",str(reference_fasta_fname),\n",
    "        \"--target\",str(K02013_fasta_fname),\n",
    "        \"--guide\",str(K02013_guide_gtf_fname),\n",
    "        \"--output\",str(output_gtf_fname),\n",
    "        \"--miniprot\",str(miniprot_bin),\n",
    "        \"--snapper\",str(snapper_bin),\n",
    "        \"--tmp-dir\",str(tmp_dir)]\n",
    "print(\" \".join(cmd))\n",
    "subprocess.run(cmd, stdout=open(stdout_fname, 'w'), stderr=open(stderr_fname, 'w'))"
   ]
  },
  {
   "cell_type": "code",
   "execution_count": 8,
   "metadata": {},
   "outputs": [
    {
     "data": {
      "text/plain": [
       "PosixPath('/ccb/salz8-3/avaraby1/HIV_Atlas/HIV_Atlas_Experiments/results/annotation_K02013')"
      ]
     },
     "execution_count": 8,
     "metadata": {},
     "output_type": "execute_result"
    }
   ],
   "source": [
    "outdir"
   ]
  },
  {
   "cell_type": "code",
   "execution_count": null,
   "metadata": {},
   "outputs": [],
   "source": []
  }
 ],
 "metadata": {
  "kernelspec": {
   "display_name": "hivAtlas",
   "language": "python",
   "name": "python3"
  },
  "language_info": {
   "codemirror_mode": {
    "name": "ipython",
    "version": 3
   },
   "file_extension": ".py",
   "mimetype": "text/x-python",
   "name": "python",
   "nbconvert_exporter": "python",
   "pygments_lexer": "ipython3",
   "version": "3.11.6"
  }
 },
 "nbformat": 4,
 "nbformat_minor": 2
}
