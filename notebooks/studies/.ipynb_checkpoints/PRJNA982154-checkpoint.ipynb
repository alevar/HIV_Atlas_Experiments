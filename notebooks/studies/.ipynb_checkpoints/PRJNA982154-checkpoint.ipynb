{
 "cells": [
  {
   "cell_type": "markdown",
   "metadata": {},
   "source": [
    "Selection of epigenetically privileged HIV-1 proviruses during treatment with panobinostat and interferon-α2a [RNA-seq] (human)"
   ]
  },
  {
   "cell_type": "markdown",
   "metadata": {},
   "source": [
    "project page: https://www.ncbi.nlm.nih.gov/bioproject/982154\n",
    "study: https://www.cell.com/cell/fulltext/S0092-8674(24)00105-3?_returnURL=https%3A%2F%2Flinkinghub.elsevier.com%2Fretrieve%2Fpii%2FS0092867424001053%3Fshowall%3Dtrue\n",
    "biosample_results: https://www.ncbi.nlm.nih.gov/biosample?Db=biosample&DbFrom=bioproject&Cmd=Link&LinkName=bioproject_biosample&LinkReadableName=BioSample&ordinalpos=1&IdsFromResult=706759"
   ]
  },
  {
   "cell_type": "code",
   "execution_count": 2,
   "metadata": {},
   "outputs": [
    {
     "name": "stderr",
     "output_type": "stream",
     "text": [
      "/ccb/salz4-4/avaraby/miniconda3/lib/python3.11/site-packages/pysradb/utils.py:14: TqdmExperimentalWarning: Using `tqdm.autonotebook.tqdm` in notebook mode. Use `tqdm.tqdm` instead to force console mode (e.g. in jupyter console)\n",
      "  from tqdm.autonotebook import tqdm\n"
     ]
    }
   ],
   "source": [
    "import os\n",
    "import re\n",
    "import sys\n",
    "import csv\n",
    "import time\n",
    "import random\n",
    "import requests\n",
    "import subprocess\n",
    "from pathlib import Path\n",
    "from typing import List, Union\n",
    "\n",
    "import numpy as np\n",
    "import pandas as pd\n",
    "\n",
    "import seaborn as sns\n",
    "import matplotlib.pyplot as plt\n",
    "\n",
    "from pysradb import SRAweb\n",
    "\n",
    "from Bio import SeqIO"
   ]
  },
  {
   "cell_type": "code",
   "execution_count": 3,
   "metadata": {},
   "outputs": [],
   "source": [
    "data_dir = Path.cwd().parent.parent.parent / 'HIV_Atlas_Creation' / 'data'\n",
    "\n",
    "sequence_dir = data_dir / 'sequences'\n",
    "assert sequence_dir.exists(), f\"sequence_dir does not exist: {sequence_dir}\"\n",
    "\n",
    "annotation_dir = data_dir / 'annotation'\n",
    "assert annotation_dir.exists(), f\"annotation_dir does not exist: {annotation_dir}\"\n",
    "\n",
    "reference_fasta_fname = sequence_dir / 'K03454.fasta'\n",
    "reference_gtf_fname = annotation_dir / 'K03454/K03454.vira.gtf'\n",
    "\n",
    "base_dir = Path.cwd().parent.parent\n",
    "\n",
    "prj_id = 'PRJNA982154'\n",
    "\n",
    "outdir = base_dir / 'results' / prj_id\n",
    "outdir.mkdir(parents=True, exist_ok=True)\n",
    "prj_data_dir = outdir / 'data'\n",
    "prj_data_dir.mkdir(parents=True, exist_ok=True)\n",
    "prj_fastq_dir = prj_data_dir / 'fastq'\n",
    "prj_fastq_dir.mkdir(parents=True, exist_ok=True)\n",
    "\n",
    "prj_aln_dir = outdir / 'alignment'\n",
    "prj_aln_dir.mkdir(parents=True, exist_ok=True)\n",
    "prj_assembly_dir = outdir / 'assembly'\n",
    "prj_assembly_dir.mkdir(parents=True, exist_ok=True)\n",
    "\n",
    "hisat_idx_basename = base_dir / 'data' / 'hg38_K03454'\n",
    "\n",
    "biosample_results_fname = prj_data_dir / 'metadata/biosample_results.tsv'"
   ]
  },
  {
   "cell_type": "code",
   "execution_count": 4,
   "metadata": {},
   "outputs": [],
   "source": [
    "# load metadata\n",
    "metadata_df = pd.read_csv(biosample_results_fname, sep='\\t')\n",
    "\n",
    "db = SRAweb()\n",
    "batch_results = db.sra_metadata(metadata_df[\"sra\"].tolist(), detailed=True)\n",
    "metadata_df = metadata_df.merge(batch_results[[\"run_accession\",\"sample_accession\"]],left_on=\"sra\",right_on=\"sample_accession\",how=\"left\")\n",
    "metadata_df = metadata_df.drop(columns=[\"sample_accession\"])\n",
    "metadata_df.to_csv(prj_data_dir / 'metadata/metadata.tsv',sep=\"\\t\",index=False)"
   ]
  },
  {
   "cell_type": "code",
   "execution_count": 4,
   "metadata": {},
   "outputs": [
    {
     "data": {
      "text/html": [
       "<div>\n",
       "<style scoped>\n",
       "    .dataframe tbody tr th:only-of-type {\n",
       "        vertical-align: middle;\n",
       "    }\n",
       "\n",
       "    .dataframe tbody tr th {\n",
       "        vertical-align: top;\n",
       "    }\n",
       "\n",
       "    .dataframe thead th {\n",
       "        text-align: right;\n",
       "    }\n",
       "</style>\n",
       "<table border=\"1\" class=\"dataframe\">\n",
       "  <thead>\n",
       "    <tr style=\"text-align: right;\">\n",
       "      <th></th>\n",
       "      <th>sample</th>\n",
       "      <th>biosample</th>\n",
       "      <th>sra</th>\n",
       "      <th>geo</th>\n",
       "      <th>run_accession</th>\n",
       "    </tr>\n",
       "  </thead>\n",
       "  <tbody>\n",
       "    <tr>\n",
       "      <th>0</th>\n",
       "      <td>Pt04 - Day 0 - Arm A</td>\n",
       "      <td>SAMN35688046</td>\n",
       "      <td>SRS17947352</td>\n",
       "      <td>GSM7472118</td>\n",
       "      <td>SRR24886914</td>\n",
       "    </tr>\n",
       "    <tr>\n",
       "      <th>1</th>\n",
       "      <td>Pt02 - Day 0 - Arm A</td>\n",
       "      <td>SAMN35688045</td>\n",
       "      <td>SRS17947353</td>\n",
       "      <td>GSM7472119</td>\n",
       "      <td>SRR24886913</td>\n",
       "    </tr>\n",
       "    <tr>\n",
       "      <th>2</th>\n",
       "      <td>Pt13 - Day 0 - Arm B</td>\n",
       "      <td>SAMN35688044</td>\n",
       "      <td>SRS17947372</td>\n",
       "      <td>GSM7472120</td>\n",
       "      <td>SRR24886895</td>\n",
       "    </tr>\n",
       "    <tr>\n",
       "      <th>3</th>\n",
       "      <td>Pt11 - Day 0 - Arm B</td>\n",
       "      <td>SAMN35688043</td>\n",
       "      <td>SRS17947370</td>\n",
       "      <td>GSM7472121</td>\n",
       "      <td>SRR24886894</td>\n",
       "    </tr>\n",
       "    <tr>\n",
       "      <th>4</th>\n",
       "      <td>Pt09 - Day 0 - Arm B</td>\n",
       "      <td>SAMN35688042</td>\n",
       "      <td>SRS17947373</td>\n",
       "      <td>GSM7472122</td>\n",
       "      <td>SRR24886893</td>\n",
       "    </tr>\n",
       "  </tbody>\n",
       "</table>\n",
       "</div>"
      ],
      "text/plain": [
       "                 sample     biosample          sra         geo run_accession\n",
       "0  Pt04 - Day 0 - Arm A  SAMN35688046  SRS17947352  GSM7472118   SRR24886914\n",
       "1  Pt02 - Day 0 - Arm A  SAMN35688045  SRS17947353  GSM7472119   SRR24886913\n",
       "2  Pt13 - Day 0 - Arm B  SAMN35688044  SRS17947372  GSM7472120   SRR24886895\n",
       "3  Pt11 - Day 0 - Arm B  SAMN35688043  SRS17947370  GSM7472121   SRR24886894\n",
       "4  Pt09 - Day 0 - Arm B  SAMN35688042  SRS17947373  GSM7472122   SRR24886893"
      ]
     },
     "execution_count": 4,
     "metadata": {},
     "output_type": "execute_result"
    }
   ],
   "source": [
    "metadata_df = pd.read_csv(prj_data_dir / 'metadata/metadata.tsv', sep='\\t')\n",
    "metadata_df.head()"
   ]
  },
  {
   "cell_type": "code",
   "execution_count": 5,
   "metadata": {},
   "outputs": [],
   "source": [
    "cmd_lst_fname = prj_fastq_dir / 'cmd_lst.txt'\n",
    "with open(cmd_lst_fname, 'w') as outFP:\n",
    "    for run_id in metadata_df[\"run_accession\"].tolist():\n",
    "        os.makedirs(prj_fastq_dir, exist_ok=True)\n",
    "        cmd_dump = f\"fasterq-dump {run_id} --outdir {prj_fastq_dir} --split-3\"\n",
    "        outFP.write(f\"{cmd_dump}\\n\")"
   ]
  },
  {
   "cell_type": "code",
   "execution_count": 12,
   "metadata": {},
   "outputs": [],
   "source": [
    "# align samples with hisat\n",
    "cmd_lst_fname = prj_aln_dir / 'cmd_lst.txt'\n",
    "with open(cmd_lst_fname, 'w') as outFP:\n",
    "    for run_id in metadata_df[\"run_accession\"].tolist():\n",
    "        cmd = f\"hisat2 -p 25 --score-min L,0,-2 --mp 2,2 -x {hisat_idx_basename} -1 {prj_fastq_dir}/{run_id}_1.fastq -2 {prj_fastq_dir}/{run_id}_2.fastq -S {prj_aln_dir}/{run_id}.sam\"\n",
    "        outFP.write(f\"{cmd}\\n\")"
   ]
  },
  {
   "cell_type": "code",
   "execution_count": 13,
   "metadata": {},
   "outputs": [],
   "source": [
    "# align samples with hisat\n",
    "cmd_lst_fname = prj_aln_dir / 'cmd_lst.sort.txt'\n",
    "with open(cmd_lst_fname, 'w') as outFP:\n",
    "    for run_id in metadata_df[\"run_accession\"].tolist():\n",
    "        cmd = f\"samtools sort -@ 25 -o {prj_aln_dir}/{run_id}.sorted.bam {prj_aln_dir}/{run_id}.sam\"\n",
    "        outFP.write(f\"{cmd}\\n\")"
   ]
  },
  {
   "cell_type": "code",
   "execution_count": null,
   "metadata": {},
   "outputs": [],
   "source": [
    "# should we extract only hxb2 reads or keep everything for assembly and differential analysis?"
   ]
  }
 ],
 "metadata": {
  "kernelspec": {
   "display_name": "Python 3 (ipykernel)",
   "language": "python",
   "name": "python3"
  },
  "language_info": {
   "codemirror_mode": {
    "name": "ipython",
    "version": 3
   },
   "file_extension": ".py",
   "mimetype": "text/x-python",
   "name": "python",
   "nbconvert_exporter": "python",
   "pygments_lexer": "ipython3",
   "version": "3.11.7"
  }
 },
 "nbformat": 4,
 "nbformat_minor": 4
}
