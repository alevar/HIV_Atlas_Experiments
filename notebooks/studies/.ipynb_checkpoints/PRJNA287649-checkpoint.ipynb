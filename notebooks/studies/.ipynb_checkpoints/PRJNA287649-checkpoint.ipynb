{
 "cells": [
  {
   "cell_type": "markdown",
   "metadata": {},
   "source": [
    "project page: https://www.ncbi.nlm.nih.gov/bioproject/PRJNA287649\n",
    "study: https://retrovirology.biomedcentral.com/articles/10.1186/s12977-015-0204-2\n",
    "biosample_results: https://www.ncbi.nlm.nih.gov/biosample?Db=biosample&DbFrom=bioproject&Cmd=Link&LinkName=bioproject_biosample&LinkReadableName=BioSample&ordinalpos=1&IdsFromResult=287649"
   ]
  },
  {
   "cell_type": "code",
   "execution_count": 2,
   "metadata": {},
   "outputs": [],
   "source": [
    "import os\n",
    "import re\n",
    "import sys\n",
    "import csv\n",
    "import time\n",
    "import random\n",
    "import requests\n",
    "import subprocess\n",
    "from pathlib import Path\n",
    "from typing import List, Union\n",
    "\n",
    "import numpy as np\n",
    "import pandas as pd\n",
    "\n",
    "import seaborn as sns\n",
    "import matplotlib.pyplot as plt\n",
    "\n",
    "from pysradb import SRAweb\n",
    "\n",
    "from Bio import SeqIO"
   ]
  },
  {
   "cell_type": "code",
   "execution_count": 3,
   "metadata": {},
   "outputs": [],
   "source": [
    "data_dir = Path.cwd().parent.parent.parent / 'HIV_Atlas_Creation' / 'data'\n",
    "\n",
    "sequence_dir = data_dir / 'sequences'\n",
    "assert sequence_dir.exists(), f\"sequence_dir does not exist: {sequence_dir}\"\n",
    "\n",
    "annotation_dir = data_dir / 'annotation'\n",
    "assert annotation_dir.exists(), f\"annotation_dir does not exist: {annotation_dir}\"\n",
    "\n",
    "reference_fasta_fname = sequence_dir / 'K03454.fasta'\n",
    "reference_gtf_fname = annotation_dir / 'K03454/K03454.vira.gtf'\n",
    "\n",
    "base_dir = Path.cwd().parent.parent\n",
    "\n",
    "prj_id = 'PRJNA287649'\n",
    "\n",
    "outdir = base_dir / 'results' / prj_id\n",
    "outdir.mkdir(parents=True, exist_ok=True)\n",
    "prj_data_dir = outdir / 'data'\n",
    "prj_data_dir.mkdir(parents=True, exist_ok=True)\n",
    "prj_fastq_dir = prj_data_dir / 'fastq'\n",
    "prj_fastq_dir.mkdir(parents=True, exist_ok=True)\n",
    "\n",
    "prj_aln_dir = outdir / 'alignment'\n",
    "prj_aln_dir.mkdir(parents=True, exist_ok=True)\n",
    "prj_assembly_dir = outdir / 'assembly'\n",
    "prj_assembly_dir.mkdir(parents=True, exist_ok=True)\n",
    "\n",
    "hisat_idx_basename = base_dir / 'data' / 'hg38_K03454'\n",
    "\n",
    "biosample_results_fname = prj_data_dir / 'metadata/biosample_results.tsv'"
   ]
  },
  {
   "cell_type": "code",
   "execution_count": 3,
   "metadata": {},
   "outputs": [],
   "source": [
    "# load metadata\n",
    "metadata_df = pd.read_csv(biosample_results_fname, sep='\\t')\n",
    "\n",
    "db = SRAweb()\n",
    "batch_results = db.sra_metadata(metadata_df[\"sra\"].tolist(), detailed=True)\n",
    "metadata_df = metadata_df.merge(batch_results[[\"run_accession\",\"sample_accession\"]],left_on=\"sra\",right_on=\"sample_accession\",how=\"left\")\n",
    "metadata_df = metadata_df.drop(columns=[\"sample_accession\"])\n",
    "metadata_df.to_csv(prj_data_dir / 'metadata/metadata.tsv',sep=\"\\t\",index=False)"
   ]
  },
  {
   "cell_type": "code",
   "execution_count": 4,
   "metadata": {},
   "outputs": [
    {
     "data": {
      "text/html": [
       "<div>\n",
       "<style scoped>\n",
       "    .dataframe tbody tr th:only-of-type {\n",
       "        vertical-align: middle;\n",
       "    }\n",
       "\n",
       "    .dataframe tbody tr th {\n",
       "        vertical-align: top;\n",
       "    }\n",
       "\n",
       "    .dataframe thead th {\n",
       "        text-align: right;\n",
       "    }\n",
       "</style>\n",
       "<table border=\"1\" class=\"dataframe\">\n",
       "  <thead>\n",
       "    <tr style=\"text-align: right;\">\n",
       "      <th></th>\n",
       "      <th>sample</th>\n",
       "      <th>biosample</th>\n",
       "      <th>sra</th>\n",
       "      <th>geo</th>\n",
       "      <th>run_accession</th>\n",
       "    </tr>\n",
       "  </thead>\n",
       "  <tbody>\n",
       "    <tr>\n",
       "      <th>0</th>\n",
       "      <td>Donor 36 CD14+ mono</td>\n",
       "      <td>SAMN03785028</td>\n",
       "      <td>SRS967589</td>\n",
       "      <td>GSM1717162</td>\n",
       "      <td>SRR2072610</td>\n",
       "    </tr>\n",
       "    <tr>\n",
       "      <th>1</th>\n",
       "      <td>Donor 36 SLAN DC</td>\n",
       "      <td>SAMN03785027</td>\n",
       "      <td>SRS967590</td>\n",
       "      <td>GSM1717161</td>\n",
       "      <td>SRR2072609</td>\n",
       "    </tr>\n",
       "    <tr>\n",
       "      <th>2</th>\n",
       "      <td>Donor 36 CD1c+ mDC</td>\n",
       "      <td>SAMN03785026</td>\n",
       "      <td>SRS967591</td>\n",
       "      <td>GSM1717160</td>\n",
       "      <td>SRR2072608</td>\n",
       "    </tr>\n",
       "    <tr>\n",
       "      <th>3</th>\n",
       "      <td>Donor 36 pDC</td>\n",
       "      <td>SAMN03785025</td>\n",
       "      <td>SRS967593</td>\n",
       "      <td>GSM1717159</td>\n",
       "      <td>SRR2072607</td>\n",
       "    </tr>\n",
       "    <tr>\n",
       "      <th>4</th>\n",
       "      <td>Donor 28 CD14+ Mono</td>\n",
       "      <td>SAMN03785024</td>\n",
       "      <td>SRS967592</td>\n",
       "      <td>GSM1717158</td>\n",
       "      <td>SRR2072606</td>\n",
       "    </tr>\n",
       "  </tbody>\n",
       "</table>\n",
       "</div>"
      ],
      "text/plain": [
       "                sample     biosample        sra         geo run_accession\n",
       "0  Donor 36 CD14+ mono  SAMN03785028  SRS967589  GSM1717162    SRR2072610\n",
       "1     Donor 36 SLAN DC  SAMN03785027  SRS967590  GSM1717161    SRR2072609\n",
       "2   Donor 36 CD1c+ mDC  SAMN03785026  SRS967591  GSM1717160    SRR2072608\n",
       "3         Donor 36 pDC  SAMN03785025  SRS967593  GSM1717159    SRR2072607\n",
       "4  Donor 28 CD14+ Mono  SAMN03785024  SRS967592  GSM1717158    SRR2072606"
      ]
     },
     "execution_count": 4,
     "metadata": {},
     "output_type": "execute_result"
    }
   ],
   "source": [
    "metadata_df = pd.read_csv(prj_data_dir / 'metadata/metadata.tsv', sep='\\t')\n",
    "metadata_df.head()"
   ]
  },
  {
   "cell_type": "code",
   "execution_count": 5,
   "metadata": {},
   "outputs": [],
   "source": [
    "cmd_lst_fname = prj_fastq_dir / 'cmd_lst.txt'\n",
    "with open(cmd_lst_fname, 'w') as outFP:\n",
    "    for run_id in metadata_df[\"run_accession\"].tolist():\n",
    "        os.makedirs(prj_fastq_dir, exist_ok=True)\n",
    "        cmd_dump = f\"fasterq-dump {run_id} --outdir {prj_fastq_dir} --split-3\"\n",
    "        outFP.write(f\"{cmd_dump}\\n\")"
   ]
  },
  {
   "cell_type": "code",
   "execution_count": 12,
   "metadata": {},
   "outputs": [],
   "source": [
    "# align samples with hisat\n",
    "cmd_lst_fname = prj_aln_dir / 'cmd_lst.txt'\n",
    "with open(cmd_lst_fname, 'w') as outFP:\n",
    "    for run_id in metadata_df[\"run_accession\"].tolist():\n",
    "        cmd = f\"hisat2 -p 25 --score-min L,0,-2 --mp 2,2 -x {hisat_idx_basename} -U {prj_fastq_dir}/{run_id}.fastq -S {prj_aln_dir}/{run_id}.sam\"\n",
    "        outFP.write(f\"{cmd}\\n\")"
   ]
  },
  {
   "cell_type": "code",
   "execution_count": 13,
   "metadata": {},
   "outputs": [],
   "source": [
    "# align samples with hisat\n",
    "cmd_lst_fname = prj_aln_dir / 'cmd_lst.sort.txt'\n",
    "with open(cmd_lst_fname, 'w') as outFP:\n",
    "    for run_id in metadata_df[\"run_accession\"].tolist():\n",
    "        cmd = f\"samtools sort -@ 25 -o {prj_aln_dir}/{run_id}.sorted.bam {prj_aln_dir}/{run_id}.sam\"\n",
    "        outFP.write(f\"{cmd}\\n\")"
   ]
  },
  {
   "cell_type": "code",
   "execution_count": null,
   "metadata": {},
   "outputs": [],
   "source": []
  }
 ],
 "metadata": {
  "kernelspec": {
   "display_name": "Python 3 (ipykernel)",
   "language": "python",
   "name": "python3"
  },
  "language_info": {
   "codemirror_mode": {
    "name": "ipython",
    "version": 3
   },
   "file_extension": ".py",
   "mimetype": "text/x-python",
   "name": "python",
   "nbconvert_exporter": "python",
   "pygments_lexer": "ipython3",
   "version": "3.11.7"
  }
 },
 "nbformat": 4,
 "nbformat_minor": 4
}
