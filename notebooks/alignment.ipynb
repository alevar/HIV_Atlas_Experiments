{
 "cells": [
  {
   "cell_type": "code",
   "execution_count": 1,
   "metadata": {},
   "outputs": [],
   "source": [
    "# experiment testing alignment accuracuy with and without annotation\n",
    "\n",
    "# take random HIV genomes\n",
    "# simulate RNA-seq reads using the corresponding annotation\n",
    "# align to the HXB2 with and without the reference annotation"
   ]
  },
  {
   "cell_type": "code",
   "execution_count": 2,
   "metadata": {},
   "outputs": [],
   "source": [
    "import os\n",
    "import re\n",
    "import sys\n",
    "import csv\n",
    "import time\n",
    "import random\n",
    "import requests\n",
    "import subprocess\n",
    "from pathlib import Path\n",
    "\n",
    "import numpy as np\n",
    "import pandas as pd\n",
    "\n",
    "import seaborn as sns\n",
    "import matplotlib.pyplot as plt\n",
    "\n",
    "from Bio import SeqIO"
   ]
  },
  {
   "cell_type": "code",
   "execution_count": null,
   "metadata": {},
   "outputs": [],
   "source": [
    "data_dir = Path.cwd().parent.parent / 'HIV_Atlas_Creation' / 'data'\n",
    "\n",
    "sequence_dir = data_dir / 'sequences'\n",
    "assert sequence_dir.exists(), f\"sequence_dir does not exist: {sequence_dir}\"\n",
    "\n",
    "annotation_dir = data_dir / 'annotation'\n",
    "assert annotation_dir.exists(), f\"annotation_dir does not exist: {annotation_dir}\"\n",
    "\n",
    "reference_fasta_fname = data_dir / 'reference' / 'K03455.1.fasta'\n",
    "reference_gtf_fname = data_dir / 'reference' / 'K03455.1.gtf'\n",
    "# reference_fasta_fname = sequence_dir / 'K03454.fasta'\n",
    "# reference_gtf_fname = annotation_dir / 'K03454/K03454.vira.gtf'\n",
    "\n",
    "base_dir = Path.cwd().parent\n",
    "\n",
    "outdir = base_dir / 'results' / 'alignment'\n",
    "outdir.mkdir(parents=True, exist_ok=True)"
   ]
  },
  {
   "cell_type": "code",
   "execution_count": 4,
   "metadata": {},
   "outputs": [],
   "source": [
    "# software links\n",
    "soft_dir = base_dir / 'soft'"
   ]
  },
  {
   "cell_type": "code",
   "execution_count": 5,
   "metadata": {},
   "outputs": [],
   "source": [
    "%load_ext autoreload\n",
    "%autoreload 1\n",
    "\n",
    "sys.path.insert(0, str(soft_dir / \"genomic_scripts\"))\n",
    "%aimport definitions"
   ]
  },
  {
   "cell_type": "code",
   "execution_count": 6,
   "metadata": {},
   "outputs": [],
   "source": [
    "random.seed(42)\n",
    "np.random.seed(42)"
   ]
  },
  {
   "cell_type": "code",
   "execution_count": 7,
   "metadata": {},
   "outputs": [],
   "source": [
    "# When simmulating reads for alignment experiment - we do not need to do much\n",
    "# 1. build HXB2 HISAT and STAR indices with and without annotation\n",
    "# 2. extract transcript fasta from the HXB2 annotation\n",
    "# 3. Pick a set of random genomes\n",
    "# 4. for every genome\n",
    "# 6. extract 100bp reads from each transcript. Write transcriptomic start position of each read into the read name\n",
    "# 7. align to HXB2 with and without annotation using both HISAT2 and STAR\n",
    "# 8. for each read, check if the alignment is correct. Comp;ute the number of positions that are in the correct position vs incorrect\n",
    "# 9. plot the results"
   ]
  },
  {
   "cell_type": "code",
   "execution_count": 8,
   "metadata": {},
   "outputs": [
    {
     "name": "stdout",
     "output_type": "stream",
     "text": [
      "hisat2-build /ccb/salz8-3/avaraby1/HIV_Atlas/HIV_Atlas_Creation/data/reference/K03455.1.fasta /ccb/salz8-3/avaraby1/HIV_Atlas/HIV_Atlas_Experiments/results/alignment/indices/hisat2/HXB2\n",
      "hisat2_extract_exons.py /ccb/salz8-3/avaraby1/HIV_Atlas/HIV_Atlas_Creation/data/reference/K03455.1.gtf > /ccb/salz8-3/avaraby1/HIV_Atlas/HIV_Atlas_Experiments/results/alignment/indices/hisat2/HXB2_with_annotation.exons\n",
      "hisat2_extract_splice_sites.py /ccb/salz8-3/avaraby1/HIV_Atlas/HIV_Atlas_Creation/data/reference/K03455.1.gtf > /ccb/salz8-3/avaraby1/HIV_Atlas/HIV_Atlas_Experiments/results/alignment/indices/hisat2/HXB2_with_annotation.ss\n",
      "hisat2-build --ss /ccb/salz8-3/avaraby1/HIV_Atlas/HIV_Atlas_Experiments/results/alignment/indices/hisat2/HXB2_with_annotation.ss --exon /ccb/salz8-3/avaraby1/HIV_Atlas/HIV_Atlas_Experiments/results/alignment/indices/hisat2/HXB2_with_annotation.exons /ccb/salz8-3/avaraby1/HIV_Atlas/HIV_Atlas_Creation/data/reference/K03455.1.fasta /ccb/salz8-3/avaraby1/HIV_Atlas/HIV_Atlas_Experiments/results/alignment/indices/hisat2/HXB2_with_annotation\n"
     ]
    }
   ],
   "source": [
    "# build indices\n",
    "idx_dir = outdir / 'indices'\n",
    "idx_dir.mkdir(parents=True, exist_ok=True)\n",
    "\n",
    "hisat_idx_dir = idx_dir / 'hisat2'\n",
    "hisat_idx_dir.mkdir(parents=True, exist_ok=True)\n",
    "\n",
    "# build HISAT2 index\n",
    "hisat_idx = hisat_idx_dir / 'HXB2'\n",
    "hisat_cmd = f\"hisat2-build {reference_fasta_fname} {hisat_idx}\"\n",
    "print(hisat_cmd)\n",
    "subprocess.run(hisat_cmd, shell=True, check=True, stdout=subprocess.DEVNULL, stderr=subprocess.DEVNULL)\n",
    "\n",
    "hisat_idx_annot = hisat_idx_dir / 'HXB2_with_annotation'\n",
    "hisat_cmd_annot = f\"hisat2_extract_exons.py {reference_gtf_fname} > {hisat_idx_annot}.exons\"\n",
    "print(hisat_cmd_annot)\n",
    "subprocess.run(hisat_cmd_annot, shell=True, check=True)\n",
    "\n",
    "hisat_cmd_annot = f\"hisat2_extract_splice_sites.py {reference_gtf_fname} > {hisat_idx_annot}.ss\"\n",
    "print(hisat_cmd_annot)\n",
    "subprocess.run(hisat_cmd_annot, shell=True, check=True)\n",
    "\n",
    "hisat_cmd_annot = f\"hisat2-build --ss {hisat_idx_annot}.ss --exon {hisat_idx_annot}.exons {reference_fasta_fname} {hisat_idx_annot}\"\n",
    "print(hisat_cmd_annot)\n",
    "subprocess.run(hisat_cmd_annot, shell=True, check=True, stdout=subprocess.DEVNULL, stderr=subprocess.DEVNULL)\n",
    "\n",
    "# minimap2 - extract bed12 from gtf for the junc-bed\n",
    "minimap2_idx_dir = idx_dir / 'minimap2'\n",
    "minimap2_idx_dir.mkdir(parents=True, exist_ok=True)\n",
    "\n",
    "minimap2_idx = minimap2_idx_dir / 'HXB2'\n",
    "reference_junc_bed_fname = minimap2_idx_dir / 'HXB2.junc.bed'\n",
    "cmd = [\"paftools.js\",\"gff2bed\",\"-j\",reference_gtf_fname]\n",
    "with open(reference_junc_bed_fname,\"w+\") as outFP:\n",
    "    subprocess.call(cmd,stdout=outFP)"
   ]
  },
  {
   "cell_type": "code",
   "execution_count": 9,
   "metadata": {},
   "outputs": [],
   "source": [
    "# simulate reads into memory as dict of read sequence to transcript start position and transcript id\n",
    "def get_read_chain(tx_chain, tx_start_pos, tx_end_pos, strand):\n",
    "    genome_start_pos = definitions.trans2genome(tx_chain, strand, tx_start_pos)\n",
    "    genome_end_pos = definitions.trans2genome(tx_chain, strand, tx_end_pos)\n",
    "\n",
    "    # cut chain to the start/end positions\n",
    "    read_chain = definitions.cut(tx_chain, genome_start_pos, genome_end_pos)\n",
    "    return read_chain\n",
    "\n",
    "\n",
    "def simulate_reads(tx_fasta_fname, tx_chains, read_length=100):\n",
    "    reads = {}\n",
    "    for record in SeqIO.parse(tx_fasta_fname, 'fasta'):\n",
    "        tx_id = record.id\n",
    "        tx_seq = str(record.seq)\n",
    "        for i in range(len(tx_seq) - read_length):\n",
    "            # retrieve genome positions for the read start to end including any introns\n",
    "            read_genome_chain = get_read_chain(tx_chains[tx_id][1],i,i+read_length,\"+\")\n",
    "            # convert to string\n",
    "            read_genome_chain = \",\".join([\"-\".join([str(y) for y in x]) for x in read_genome_chain])\n",
    "            read = tx_seq[i:i+read_length]\n",
    "            read_name = f\"{tx_id}/{i}-{i+read_length}\"+\"/\"+read_genome_chain\n",
    "            reads[read_name] = (read, i, tx_id)\n",
    "    return reads"
   ]
  },
  {
   "cell_type": "code",
   "execution_count": 10,
   "metadata": {},
   "outputs": [
    {
     "name": "stderr",
     "output_type": "stream",
     "text": [
      "/tmp/ipykernel_1565720/4175875301.py:25: DeprecationWarning: DataFrameGroupBy.apply operated on the grouping columns. This behavior is deprecated, and in a future version of pandas the grouping columns will be excluded from the operation. Either pass `include_groups=False` to exclude the groupings or explicitly select the grouping columns after groupby to silence this warning.\n",
      "  tx_chains = tx_chains.groupby(\"tid\").apply(lambda x: x[[\"seqid\",\"chain\"]].values[0]).to_dict()\n"
     ]
    }
   ],
   "source": [
    "# get a subset of genomes to run simulations with\n",
    "genomes = list(sequence_dir.glob(\"*.fasta\"))\n",
    "genomes = random.sample(genomes, 10)\n",
    "# extract genome IDs\n",
    "genomes = [x.stem for x in genomes]\n",
    "genomes = [\"K03454\"]\n",
    "\n",
    "for genome in genomes:\n",
    "    genome_fasta_fname = sequence_dir / f\"{genome}.fasta\"\n",
    "    genome_gtf_fname = annotation_dir/ genome / f\"{genome}.vira.gtf\"\n",
    "\n",
    "    # extract transcripts with gffread\n",
    "    files_dir = outdir / 'files'\n",
    "    files_dir.mkdir(parents=True, exist_ok=True)\n",
    "    genome_dir = files_dir / genome\n",
    "    genome_dir.mkdir(parents=True, exist_ok=True)\n",
    "\n",
    "    tx_fasta_fname = genome_dir / f\"{genome}.transcripts.fasta\"\n",
    "    gffread_cmd = f\"gffread {genome_gtf_fname} -g {genome_fasta_fname} -w {tx_fasta_fname}\"\n",
    "    subprocess.run(gffread_cmd, shell=True, check=True)\n",
    "\n",
    "    # load transcript chains to later use as translation to genomic coordinates\n",
    "    tx_chains = definitions.get_chains(genome_gtf_fname,\"exon\",True)\n",
    "    # extract chains into a dictionary where key is tid and value is seqid and chain. There is just one chain per tid\n",
    "    tx_chains = tx_chains.groupby(\"tid\").apply(lambda x: x[[\"seqid\",\"chain\"]].values[0]).to_dict()\n",
    "\n",
    "    reads = simulate_reads(tx_fasta_fname, tx_chains)\n",
    "\n",
    "    reads_fname = genome_dir / f\"{genome}.reads.fasta\"\n",
    "    with open(reads_fname, 'w') as outFP:\n",
    "        for read_name, read in reads.items():\n",
    "            outFP.write(f\">{read_name}\\n{read[0]}\\n\")"
   ]
  },
  {
   "cell_type": "code",
   "execution_count": 13,
   "metadata": {},
   "outputs": [
    {
     "name": "stdout",
     "output_type": "stream",
     "text": [
      "hisat2 --score-min L,0,-2 --mp 2,2 -x /ccb/salz8-3/avaraby1/HIV_Atlas/HIV_Atlas_Experiments/results/alignment/indices/hisat2/HXB2 -f -U /ccb/salz8-3/avaraby1/HIV_Atlas/HIV_Atlas_Experiments/results/alignment/files/K03454/K03454.reads.fasta -S /ccb/salz8-3/avaraby1/HIV_Atlas/HIV_Atlas_Experiments/results/alignment/files/K03454/K03454.hisat.woa.sam\n"
     ]
    },
    {
     "name": "stderr",
     "output_type": "stream",
     "text": [
      "126142 reads; of these:\n",
      "  126142 (100.00%) were unpaired; of these:\n",
      "    7555 (5.99%) aligned 0 times\n",
      "    107999 (85.62%) aligned exactly 1 time\n",
      "    10588 (8.39%) aligned >1 times\n",
      "94.01% overall alignment rate\n"
     ]
    },
    {
     "name": "stdout",
     "output_type": "stream",
     "text": [
      "hisat2 --score-min L,0,-2 --mp 2,2 -x /ccb/salz8-3/avaraby1/HIV_Atlas/HIV_Atlas_Experiments/results/alignment/indices/hisat2/HXB2_with_annotation -f -U /ccb/salz8-3/avaraby1/HIV_Atlas/HIV_Atlas_Experiments/results/alignment/files/K03454/K03454.reads.fasta -S /ccb/salz8-3/avaraby1/HIV_Atlas/HIV_Atlas_Experiments/results/alignment/files/K03454/K03454.hisat.wa.sam\n"
     ]
    },
    {
     "name": "stderr",
     "output_type": "stream",
     "text": [
      "126142 reads; of these:\n",
      "  126142 (100.00%) were unpaired; of these:\n",
      "    7556 (5.99%) aligned 0 times\n",
      "    107843 (85.49%) aligned exactly 1 time\n",
      "    10743 (8.52%) aligned >1 times\n",
      "94.01% overall alignment rate\n",
      "[M::mm_idx_gen::0.002*2.51] collected minimizers\n",
      "[M::mm_idx_gen::0.004*2.62] sorted minimizers\n",
      "[M::main::0.004*2.62] loaded/built the index for 1 target sequence(s)\n",
      "[M::mm_mapopt_update::0.004*2.47] mid_occ = 10\n",
      "[M::mm_idx_stat] kmer size: 15; skip: 5; is_hpc: 0; #seq: 1\n",
      "[M::mm_idx_stat::0.004*2.43] distinct minimizers: 3114 (94.32% are singletons); average occurrences: 1.057; average spacing: 2.953; total length: 9719\n"
     ]
    },
    {
     "name": "stdout",
     "output_type": "stream",
     "text": [
      "minimap2 -a -x splice /ccb/salz8-3/avaraby1/HIV_Atlas/HIV_Atlas_Creation/data/reference/K03455.1.fasta /ccb/salz8-3/avaraby1/HIV_Atlas/HIV_Atlas_Experiments/results/alignment/files/K03454/K03454.reads.fasta > /ccb/salz8-3/avaraby1/HIV_Atlas/HIV_Atlas_Experiments/results/alignment/files/K03454/K03454.minimap2.woa.sam\n"
     ]
    },
    {
     "name": "stderr",
     "output_type": "stream",
     "text": [
      "[M::worker_pipeline::1.235*2.77] mapped 126142 sequences\n",
      "[M::main] Version: 2.28-r1209\n",
      "[M::main] CMD: minimap2 -a -x splice /ccb/salz8-3/avaraby1/HIV_Atlas/HIV_Atlas_Creation/data/reference/K03455.1.fasta /ccb/salz8-3/avaraby1/HIV_Atlas/HIV_Atlas_Experiments/results/alignment/files/K03454/K03454.reads.fasta\n",
      "[M::main] Real time: 1.237 sec; CPU: 3.424 sec; Peak RSS: 0.040 GB\n",
      "[M::mm_idx_gen::0.001*3.86] collected minimizers\n",
      "[M::mm_idx_gen::0.003*3.31] sorted minimizers\n",
      "[M::main::0.003*3.30] loaded/built the index for 1 target sequence(s)\n",
      "[M::mm_mapopt_update::0.003*3.06] mid_occ = 10\n",
      "[M::mm_idx_stat] kmer size: 15; skip: 5; is_hpc: 0; #seq: 1\n",
      "[M::mm_idx_stat::0.003*2.99] distinct minimizers: 3114 (94.32% are singletons); average occurrences: 1.057; average spacing: 2.953; total length: 9719\n"
     ]
    },
    {
     "name": "stdout",
     "output_type": "stream",
     "text": [
      "minimap2 --junc-bed /ccb/salz8-3/avaraby1/HIV_Atlas/HIV_Atlas_Experiments/results/alignment/indices/minimap2/HXB2.junc.bed -a -x splice /ccb/salz8-3/avaraby1/HIV_Atlas/HIV_Atlas_Creation/data/reference/K03455.1.fasta /ccb/salz8-3/avaraby1/HIV_Atlas/HIV_Atlas_Experiments/results/alignment/files/K03454/K03454.reads.fasta > /ccb/salz8-3/avaraby1/HIV_Atlas/HIV_Atlas_Experiments/results/alignment/files/K03454/K03454.minimap2.wa.sam\n"
     ]
    },
    {
     "name": "stderr",
     "output_type": "stream",
     "text": [
      "[M::worker_pipeline::1.243*2.77] mapped 126142 sequences\n",
      "[M::main] Version: 2.28-r1209\n",
      "[M::main] CMD: minimap2 --junc-bed /ccb/salz8-3/avaraby1/HIV_Atlas/HIV_Atlas_Experiments/results/alignment/indices/minimap2/HXB2.junc.bed -a -x splice /ccb/salz8-3/avaraby1/HIV_Atlas/HIV_Atlas_Creation/data/reference/K03455.1.fasta /ccb/salz8-3/avaraby1/HIV_Atlas/HIV_Atlas_Experiments/results/alignment/files/K03454/K03454.reads.fasta\n",
      "[M::main] Real time: 1.245 sec; CPU: 3.445 sec; Peak RSS: 0.044 GB\n"
     ]
    }
   ],
   "source": [
    "# now we need to run alignment for each genome with and without annotation\n",
    "for genome in genomes:\n",
    "    genome_fasta_fname = sequence_dir / f\"{genome}.fasta\"\n",
    "    genome_gtf_fname = annotation_dir/ genome / f\"{genome}.vira.gtf\"\n",
    "    genome_dir = files_dir / genome\n",
    "    reads_fname = genome_dir / f\"{genome}.reads.fasta\"\n",
    "\n",
    "    hisat_sam_fname = genome_dir / f\"{genome}.hisat.woa.sam\"\n",
    "    hisat_cmd = f\"hisat2 --score-min L,0,-2 --mp 2,2 -x {hisat_idx} -f -U {reads_fname} -S {hisat_sam_fname}\"\n",
    "    print(hisat_cmd)\n",
    "    subprocess.run(hisat_cmd, shell=True, check=True)\n",
    "\n",
    "    hisat_sam_annot_fname = genome_dir / f\"{genome}.hisat.wa.sam\"\n",
    "    hisat_cmd_annot = f\"hisat2 --score-min L,0,-2 --mp 2,2 -x {hisat_idx_annot} -f -U {reads_fname} -S {hisat_sam_annot_fname}\"\n",
    "    print(hisat_cmd_annot)\n",
    "    subprocess.run(hisat_cmd_annot, shell=True, check=True)\n",
    "\n",
    "    # map with minimap2\n",
    "    minimap2_sam_fname = genome_dir / f\"{genome}.minimap2.woa.sam\"\n",
    "    minimap2_cmd = f\"minimap2 -a -x splice {reference_fasta_fname} {reads_fname} > {minimap2_sam_fname}\"\n",
    "    print(minimap2_cmd)\n",
    "    subprocess.run(minimap2_cmd, shell=True, check=True)\n",
    "\n",
    "    minimap2_sam_annot_fname = genome_dir / f\"{genome}.minimap2.wa.sam\"\n",
    "    minimap2_cmd_annot = f\"minimap2 --junc-bed {reference_junc_bed_fname} -a -x splice {reference_fasta_fname} {reads_fname} > {minimap2_sam_annot_fname}\"\n",
    "    print(minimap2_cmd_annot)\n",
    "    subprocess.run(minimap2_cmd_annot, shell=True, check=True)"
   ]
  },
  {
   "cell_type": "code",
   "execution_count": 12,
   "metadata": {},
   "outputs": [],
   "source": [
    "# perhaps we should instead look for some real data and use that across all experiments instead\n",
    "# including mapping rate\n",
    "# and DGE/DTE/DTU"
   ]
  }
 ],
 "metadata": {
  "kernelspec": {
   "display_name": ".conda",
   "language": "python",
   "name": "python3"
  },
  "language_info": {
   "codemirror_mode": {
    "name": "ipython",
    "version": 3
   },
   "file_extension": ".py",
   "mimetype": "text/x-python",
   "name": "python",
   "nbconvert_exporter": "python",
   "pygments_lexer": "ipython3",
   "version": "3.11.10"
  }
 },
 "nbformat": 4,
 "nbformat_minor": 4
}
